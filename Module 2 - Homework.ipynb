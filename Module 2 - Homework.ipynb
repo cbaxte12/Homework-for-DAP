{
 "cells": [
  {
   "cell_type": "markdown",
   "id": "c209b646",
   "metadata": {},
   "source": [
    "### Homework #2"
   ]
  },
  {
   "cell_type": "markdown",
   "id": "869ebfd6",
   "metadata": {},
   "source": [
    "1. Round 4.5667 to the nearest hundreth (2 decimals) using a build-in function, round()."
   ]
  },
  {
   "cell_type": "code",
   "execution_count": 1,
   "id": "123658aa",
   "metadata": {},
   "outputs": [
    {
     "name": "stdout",
     "output_type": "stream",
     "text": [
      "4.57\n"
     ]
    }
   ],
   "source": [
    "numb = round(4.5667, 2)\n",
    "print(numb)"
   ]
  },
  {
   "cell_type": "markdown",
   "id": "9d3f352c",
   "metadata": {},
   "source": [
    "2. Convert \"657\" to an integer data type"
   ]
  },
  {
   "cell_type": "code",
   "execution_count": 103,
   "id": "d5a67683",
   "metadata": {},
   "outputs": [
    {
     "name": "stdout",
     "output_type": "stream",
     "text": [
      "<class 'str'>\n",
      "657\n",
      "657\n",
      "<class 'int'>\n"
     ]
    }
   ],
   "source": [
    "num = \"657\"\n",
    "print(type(num))\n",
    "print(num)\n",
    "converted_type = int(num)\n",
    "print(converted_type)\n",
    "print(type(converted_type))\n"
   ]
  },
  {
   "cell_type": "markdown",
   "id": "a36f06d4",
   "metadata": {},
   "source": [
    "3. Write a program to get two numbers from a user. Then, create a 6-digit code that is a series of randomly generated numbers between the two numbers given by the user. Print the 6-digit code so all digits are separated by a dash. "
   ]
  },
  {
   "cell_type": "code",
   "execution_count": 91,
   "id": "021c92d4",
   "metadata": {},
   "outputs": [
    {
     "name": "stdout",
     "output_type": "stream",
     "text": [
      "input a number: 12.3\n",
      "input another number: 45.5\n",
      "18.065471204387684-29.677742002355778-39.84934297250497-30.306147601639594-42.93699070805101-44.832343223439125\n"
     ]
    }
   ],
   "source": [
    "import random\n",
    "\n",
    "number1 = float(input(\"input a number: \"))\n",
    "number2 = float(input(\"input another number: \"))\n",
    "\n",
    "numgen = random.uniform(number1, number2)\n",
    "\n",
    "numgen1 = random.uniform(number1, number2)\n",
    "\n",
    "numgen2 = random.uniform(number1, number2)\n",
    "\n",
    "numgen3 = random.uniform(number1, number2)\n",
    "\n",
    "numgen4 = random.uniform(number1, number2)\n",
    "\n",
    "numgen5 = random.uniform(number1, number2)\n",
    "\n",
    "numgen6 = random.uniform(number1, number2)\n",
    "\n",
    "code6 = (f\"{numgen1} {numgen2} {numgen3} {numgen4} {numgen5} {numgen6}\")\n",
    "print(code6.replace(\" \",\"-\"))"
   ]
  },
  {
   "cell_type": "markdown",
   "id": "ee1441a1",
   "metadata": {},
   "source": [
    "4. Write a program to remove ALL the white spaces from the following text:\n",
    "\n",
    "        Hickory, dickory, dock,     \n",
    "        The mouse ran up the clock.   \n",
    "        The clock struck one,   \n",
    "        The mouse ran down,                      \n",
    "        Hickory, dickory, dock                  "
   ]
  },
  {
   "cell_type": "code",
   "execution_count": 95,
   "id": "8bf680f1",
   "metadata": {},
   "outputs": [
    {
     "name": "stdout",
     "output_type": "stream",
     "text": [
      "Hickory, dickory, dock,\n",
      "The mouse ran up the clock.\n",
      "The clock struck one,\n",
      "The mouse ran down,\n",
      "Hickory, dickory, dock\n"
     ]
    }
   ],
   "source": [
    "lyric = \"Hickory, dickory, dock,\\nThe mouse ran up the clock.\\nThe clock struck one,\\nThe mouse ran down,\\nHickory, dickory, dock\"\n",
    "print(lyric)"
   ]
  },
  {
   "cell_type": "code",
   "execution_count": 97,
   "id": "59d9c718",
   "metadata": {},
   "outputs": [
    {
     "name": "stdout",
     "output_type": "stream",
     "text": [
      "Hickory,dickory,dock,\n",
      "Themouseranuptheclock.\n",
      "Theclockstruckone,\n",
      "Themouserandown,\n",
      "Hickory,dickory,dock\n"
     ]
    }
   ],
   "source": [
    "print(lyric.strip().replace(\" \",\"\"))"
   ]
  },
  {
   "cell_type": "code",
   "execution_count": 31,
   "id": "11c24618",
   "metadata": {},
   "outputs": [
    {
     "name": "stdout",
     "output_type": "stream",
     "text": [
      "Hickory, dickory, dock,\n",
      "The mouse ran up the clock.\n",
      "The clock struck one,\n",
      "The mouse ran down,\n",
      "Hickory, dickory, dock\n"
     ]
    }
   ],
   "source": [
    "print(lyric)"
   ]
  },
  {
   "cell_type": "markdown",
   "id": "72d87b5b",
   "metadata": {},
   "source": [
    "5. Write a function to calculate the miles per gallon. Get a miles driven and gallons used from a user and call your function to calculate the miles per gallon."
   ]
  },
  {
   "cell_type": "code",
   "execution_count": 48,
   "id": "27be7372",
   "metadata": {},
   "outputs": [
    {
     "name": "stdout",
     "output_type": "stream",
     "text": [
      "how many miles driven?: 45.5\n",
      "how many gallons used?: 3\n",
      "15.17\n"
     ]
    }
   ],
   "source": [
    "def my_function():\n",
    "    x = float(input(\"how many miles driven?: \"))\n",
    "    y = float(input(\"how many gallons used?: \"))\n",
    "    print(round(x/y, 2))\n",
    "my_function()"
   ]
  },
  {
   "cell_type": "markdown",
   "id": "1f3942b8",
   "metadata": {},
   "source": [
    "6. Enhance the <b>compute()</b> function created during Module 2. Enhance the function to compute a circle's area and circumference where:\n",
    "\n",
    " - circle's area = 3.14 X (radius X radius)   \n",
    " - circle's circumference = 3.14 X diameter"
   ]
  },
  {
   "cell_type": "code",
   "execution_count": 54,
   "id": "df43daca",
   "metadata": {},
   "outputs": [
    {
     "name": "stdout",
     "output_type": "stream",
     "text": [
      "circle radius?: 45.4\n",
      "6472.042399999999\n",
      "285.112\n"
     ]
    }
   ],
   "source": [
    "def compute():\n",
    "    x = float(input(\"circle radius?: \"))\n",
    "    area = (x**2)*3.14\n",
    "    circumference =  (2*x) * 3.14\n",
    "    print(area)\n",
    "    print(circumference)\n",
    "compute()"
   ]
  },
  {
   "cell_type": "code",
   "execution_count": null,
   "id": "fa8de89a",
   "metadata": {},
   "outputs": [],
   "source": []
  },
  {
   "cell_type": "markdown",
   "id": "4c5d83bb",
   "metadata": {},
   "source": [
    "7. Write a function called multiply_two() that accepts two parameters. The function should print a message like '15 * 2 = 30'.  Randomly generate two numbers between 1 and 100, then call the function with the two random numbers."
   ]
  },
  {
   "cell_type": "code",
   "execution_count": 98,
   "id": "fe5ca2dc",
   "metadata": {},
   "outputs": [
    {
     "name": "stdout",
     "output_type": "stream",
     "text": [
      " 91*53 =4823\n"
     ]
    }
   ],
   "source": [
    "import random\n",
    "\n",
    "smiley = random.randrange(1, 100)\n",
    "face = random.randrange(1, 100)\n",
    "\n",
    "def multiply_two(x, y):\n",
    "    print(f\" {x}*{y} ={x*y}\" )\n",
    "   \n",
    "    \n",
    "multiply_two(smiley, face)\n",
    "\n"
   ]
  },
  {
   "cell_type": "code",
   "execution_count": null,
   "id": "9f83774c",
   "metadata": {},
   "outputs": [],
   "source": []
  },
  {
   "cell_type": "markdown",
   "id": "36865477",
   "metadata": {},
   "source": [
    "8. Create a function for a multiplication table.  Get a number from a user and then call you function which produces a multiplication table for that number.\n",
    "The output should look something like this:\n",
    "\n",
    "        Enter a number: 3\n",
    "        3 X 1 = 3\n",
    "        3 X 2 = 6\n",
    "        3 X 3 = 9\n",
    "        3 X 4 = 12\n",
    "        3 X 5 = 15\n",
    "        3 X 6 = 18\n",
    "        3 X 7 = 21\n",
    "        3 X 8 = 24\n",
    "        3 X 9 = 27"
   ]
  },
  {
   "cell_type": "code",
   "execution_count": 101,
   "id": "b023e863",
   "metadata": {},
   "outputs": [
    {
     "name": "stdout",
     "output_type": "stream",
     "text": [
      "Enter an integer: 54\n",
      "54 x 1 = 54\n",
      "54 x 2 = 108\n",
      "54 x 3 = 162\n",
      "54 x 5 = 270\n",
      "54 x 6 = 324\n",
      "54 x 7 = 378\n",
      "54 x 8 = 432\n",
      "54 x 9 = 486\n"
     ]
    }
   ],
   "source": [
    "a = int(input(\"Enter an integer: \"))\n",
    "\n",
    "def mul_table(x):\n",
    "    print(f\"{x} x 1 = {x*1}\")\n",
    "    print(f\"{x} x 2 = {x*2}\")\n",
    "    print(f\"{x} x 3 = {x*3}\")\n",
    "    print(f\"{x} x 5 = {x*5}\")\n",
    "    print(f\"{x} x 6 = {x*6}\")\n",
    "    print(f\"{x} x 7 = {x*7}\")\n",
    "    print(f\"{x} x 8 = {x*8}\")\n",
    "    print(f\"{x} x 9 = {x*9}\")\n",
    "\n",
    "\n",
    "mul_table(a)\n",
    "    \n",
    "    "
   ]
  },
  {
   "cell_type": "code",
   "execution_count": null,
   "id": "563c8445",
   "metadata": {},
   "outputs": [],
   "source": []
  }
 ],
 "metadata": {
  "kernelspec": {
   "display_name": "Python 3 (ipykernel)",
   "language": "python",
   "name": "python3"
  },
  "language_info": {
   "codemirror_mode": {
    "name": "ipython",
    "version": 3
   },
   "file_extension": ".py",
   "mimetype": "text/x-python",
   "name": "python",
   "nbconvert_exporter": "python",
   "pygments_lexer": "ipython3",
   "version": "3.9.12"
  }
 },
 "nbformat": 4,
 "nbformat_minor": 5
}
