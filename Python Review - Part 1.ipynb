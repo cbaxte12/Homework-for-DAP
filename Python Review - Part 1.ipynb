{
 "cells": [
  {
   "cell_type": "markdown",
   "id": "d50a2161",
   "metadata": {},
   "source": [
    "# Python Review #1\n",
    "\n",
    "Using what you learned in the modules, answer the questions below. Take your time and use all the information in the modules as your guide and resource. This isn't about memorization - this is about practicing skills! Good Luck!"
   ]
  },
  {
   "cell_type": "markdown",
   "id": "25a8ea5e",
   "metadata": {},
   "source": [
    "## Module 1 Review"
   ]
  },
  {
   "cell_type": "markdown",
   "id": "68af75a9",
   "metadata": {},
   "source": [
    "#### COMMENTS\n",
    "\n",
    "Comments are not executed with the rest of the code when you run the cell. These are notes that give context to the code. "
   ]
  },
  {
   "cell_type": "markdown",
   "id": "03b7555a",
   "metadata": {},
   "source": [
    "1. Open any book, document, brochure, email around you. Take the first two sentences you find. Write the two sentences in a cell below. Assign one sentence to a variable name (save it as a string) and make the other sentence a comment. Run the cell. \n",
    "2. Switch the sentences (the first sentence is now a comment, the second sentence is now the string) and re-run the cell."
   ]
  },
  {
   "cell_type": "code",
   "execution_count": 1,
   "id": "588eaf65",
   "metadata": {},
   "outputs": [
    {
     "name": "stdout",
     "output_type": "stream",
     "text": [
      "Thank you for your interest for hitting instruction.\n"
     ]
    }
   ],
   "source": [
    "email= print(\"Thank you for your interest for hitting instruction.\")\n",
    "#I charge $100/45 minutes and offer packs of 5 lessons for $450."
   ]
  },
  {
   "cell_type": "code",
   "execution_count": 3,
   "id": "bba581f5",
   "metadata": {},
   "outputs": [
    {
     "data": {
      "text/plain": [
       "'I charge $100/45 minutes and offer packs of 5 lessons for $450.'"
      ]
     },
     "execution_count": 3,
     "metadata": {},
     "output_type": "execute_result"
    }
   ],
   "source": [
    "#email= print(\"Thank you for your interest for hitting instruction.\")\n",
    "\"I charge $100/45 minutes and offer packs of 5 lessons for $450.\""
   ]
  },
  {
   "cell_type": "code",
   "execution_count": null,
   "id": "3254aa24",
   "metadata": {},
   "outputs": [],
   "source": []
  },
  {
   "cell_type": "markdown",
   "id": "17740879",
   "metadata": {},
   "source": [
    "#### DATA TYPES \n",
    "\n",
    "There are three data types that we will use continuously - integer, float, string. Each cell below includes one of these three data types. Using a comment, write the type of data in each cell next to the value. "
   ]
  },
  {
   "cell_type": "code",
   "execution_count": null,
   "id": "5a62d75a",
   "metadata": {},
   "outputs": [],
   "source": [
    "\"Hello\" #string"
   ]
  },
  {
   "cell_type": "code",
   "execution_count": null,
   "id": "450288c5",
   "metadata": {},
   "outputs": [],
   "source": [
    "156 #int"
   ]
  },
  {
   "cell_type": "code",
   "execution_count": null,
   "id": "88978aba",
   "metadata": {},
   "outputs": [],
   "source": [
    "\"W45\" #string"
   ]
  },
  {
   "cell_type": "code",
   "execution_count": null,
   "id": "3377e32b",
   "metadata": {},
   "outputs": [],
   "source": [
    "12.567 #float"
   ]
  },
  {
   "cell_type": "code",
   "execution_count": null,
   "id": "a26454e1",
   "metadata": {},
   "outputs": [],
   "source": [
    "\"198 Spring Street, San Deigo, CA\" #string"
   ]
  },
  {
   "cell_type": "code",
   "execution_count": null,
   "id": "e3739e97",
   "metadata": {},
   "outputs": [],
   "source": [
    "1.87 #float"
   ]
  },
  {
   "cell_type": "code",
   "execution_count": null,
   "id": "6d760ee7",
   "metadata": {},
   "outputs": [],
   "source": [
    "0.00000435 #float"
   ]
  },
  {
   "cell_type": "code",
   "execution_count": null,
   "id": "64358c93",
   "metadata": {},
   "outputs": [],
   "source": [
    "\"628\" #string"
   ]
  },
  {
   "cell_type": "code",
   "execution_count": null,
   "id": "835878ba",
   "metadata": {},
   "outputs": [],
   "source": [
    "1.111111114 #float"
   ]
  },
  {
   "cell_type": "code",
   "execution_count": null,
   "id": "14b73147",
   "metadata": {},
   "outputs": [],
   "source": [
    "4560886543 #int"
   ]
  },
  {
   "cell_type": "markdown",
   "id": "08e1fea6",
   "metadata": {},
   "source": [
    "#### VARIABLES\n",
    "\n",
    "Variables hold information or a data value. To assign a value to a variable, use a single \"=\". Variables should be given meaningful names, can start with a letter or underscore (no numbers), and should follow <b>CamelType</b> or <b>snake_type</b> formatting. \n",
    "\n",
    "1. Write your birthday in longform (Month Day, Year) and save the value to a variable. Choose an appropriate name. \n",
    "2. Write the name of your favorite book. Save the value to a variable. Choose an appropriate name. \n",
    "3. Write the number of times you've eaten pizza in the past two weeks (0 can be an answer). Save the value to a variable. Choose an appropriate name. \n",
    "4. Write a float value with at least three digits after the decimal point. Save the value to a variable. Choose an appropriate name.\n",
    "5. Pick two additional sentences from the item referenced in the comments section. Write out the sentences and save them to a variable. Choose an appropriate name."
   ]
  },
  {
   "cell_type": "code",
   "execution_count": 4,
   "id": "062d9d1b",
   "metadata": {},
   "outputs": [],
   "source": [
    "birthday = \"(September, 17, 1993)\"\n",
    "fav_book = \"How to change your mind\"\n",
    "pizza_eaten = 0\n",
    "small_num = .012\n",
    "location = \"I use Allsport Training Center\"\n",
    "payment_methods = \"You can pay with cash, Checks, or venmo!\""
   ]
  },
  {
   "cell_type": "code",
   "execution_count": null,
   "id": "e2db48d1",
   "metadata": {},
   "outputs": [],
   "source": []
  },
  {
   "cell_type": "code",
   "execution_count": null,
   "id": "9818b7d7",
   "metadata": {},
   "outputs": [],
   "source": []
  },
  {
   "cell_type": "markdown",
   "id": "86d96a13",
   "metadata": {},
   "source": [
    "#### PRINT AND TYPE FUNCTIONS\n",
    "\n",
    "The print function is crucial to your python knowledge. The print() function allows you to return a specific item, statement, word, number, etc. It is used to return (print, output, etc) information. Using all the variables you created in the step above, print each one in an individual cell. \n",
    "\n",
    "The type function allows you to return the type of data saved to a specific variable. Use the type() function to determine the type of data stored to each of your variables. "
   ]
  },
  {
   "cell_type": "code",
   "execution_count": 11,
   "id": "987beb96",
   "metadata": {},
   "outputs": [
    {
     "name": "stdout",
     "output_type": "stream",
     "text": [
      "(September, 17, 1993)\n"
     ]
    },
    {
     "data": {
      "text/plain": [
       "str"
      ]
     },
     "execution_count": 11,
     "metadata": {},
     "output_type": "execute_result"
    }
   ],
   "source": [
    "print(birthday)\n",
    "type(birthday)"
   ]
  },
  {
   "cell_type": "code",
   "execution_count": 12,
   "id": "2c082463",
   "metadata": {},
   "outputs": [
    {
     "name": "stdout",
     "output_type": "stream",
     "text": [
      "How to change your mind\n"
     ]
    },
    {
     "data": {
      "text/plain": [
       "str"
      ]
     },
     "execution_count": 12,
     "metadata": {},
     "output_type": "execute_result"
    }
   ],
   "source": [
    "print(fav_book)\n",
    "type(fav_book)"
   ]
  },
  {
   "cell_type": "code",
   "execution_count": 13,
   "id": "a9eaa5a2",
   "metadata": {},
   "outputs": [
    {
     "name": "stdout",
     "output_type": "stream",
     "text": [
      "0\n"
     ]
    },
    {
     "data": {
      "text/plain": [
       "int"
      ]
     },
     "execution_count": 13,
     "metadata": {},
     "output_type": "execute_result"
    }
   ],
   "source": [
    "print(pizza_eaten)\n",
    "type(pizza_eaten)"
   ]
  },
  {
   "cell_type": "code",
   "execution_count": 14,
   "id": "e4c57db9",
   "metadata": {},
   "outputs": [
    {
     "name": "stdout",
     "output_type": "stream",
     "text": [
      "I use Allsport Training Center\n"
     ]
    },
    {
     "data": {
      "text/plain": [
       "str"
      ]
     },
     "execution_count": 14,
     "metadata": {},
     "output_type": "execute_result"
    }
   ],
   "source": [
    "print(location)\n",
    "type(location)"
   ]
  },
  {
   "cell_type": "code",
   "execution_count": 15,
   "id": "01acb7f9",
   "metadata": {},
   "outputs": [
    {
     "name": "stdout",
     "output_type": "stream",
     "text": [
      "You can pay with cash, Checks, or venmo!\n"
     ]
    },
    {
     "data": {
      "text/plain": [
       "str"
      ]
     },
     "execution_count": 15,
     "metadata": {},
     "output_type": "execute_result"
    }
   ],
   "source": [
    "print(payment_methods)\n",
    "type(payment_methods)"
   ]
  },
  {
   "cell_type": "markdown",
   "id": "aeae11a2",
   "metadata": {},
   "source": [
    "#### ARITHMETIC OPERATORS\n",
    "\n",
    "Arithmetic operators allow you to do simple math with Python. Operators include: \n",
    "\n",
    "    +  : addition\n",
    "    -  : subtraction\n",
    "    *  : multiplication\n",
    "    /  : division\n",
    "    %  : modulo (finds the remainder of a division)\n",
    "    ** : exponent\n",
    "    // : floor division\n",
    "    \n",
    "In the cells below, insert any of the above operators to complete the equation. Print the result of the equation. "
   ]
  },
  {
   "cell_type": "code",
   "execution_count": 18,
   "id": "39040a42",
   "metadata": {},
   "outputs": [
    {
     "data": {
      "text/plain": [
       "11"
      ]
     },
     "execution_count": 18,
     "metadata": {},
     "output_type": "execute_result"
    }
   ],
   "source": [
    "9+2"
   ]
  },
  {
   "cell_type": "code",
   "execution_count": 19,
   "id": "10556873",
   "metadata": {},
   "outputs": [
    {
     "data": {
      "text/plain": [
       "2.423076923076923"
      ]
     },
     "execution_count": 19,
     "metadata": {},
     "output_type": "execute_result"
    }
   ],
   "source": [
    "189.0/78"
   ]
  },
  {
   "cell_type": "code",
   "execution_count": 20,
   "id": "08146d84",
   "metadata": {},
   "outputs": [
    {
     "data": {
      "text/plain": [
       "1"
      ]
     },
     "execution_count": 20,
     "metadata": {},
     "output_type": "execute_result"
    }
   ],
   "source": [
    "3 //2"
   ]
  },
  {
   "cell_type": "code",
   "execution_count": 21,
   "id": "f7078161",
   "metadata": {},
   "outputs": [
    {
     "data": {
      "text/plain": [
       "24"
      ]
     },
     "execution_count": 21,
     "metadata": {},
     "output_type": "execute_result"
    }
   ],
   "source": [
    "3 *8"
   ]
  },
  {
   "cell_type": "code",
   "execution_count": 22,
   "id": "dab7ca1c",
   "metadata": {},
   "outputs": [
    {
     "data": {
      "text/plain": [
       "-1737.8273"
      ]
     },
     "execution_count": 22,
     "metadata": {},
     "output_type": "execute_result"
    }
   ],
   "source": [
    "999.0027 -2736.83"
   ]
  },
  {
   "cell_type": "code",
   "execution_count": 23,
   "id": "fc2f6a96",
   "metadata": {},
   "outputs": [
    {
     "data": {
      "text/plain": [
       "5"
      ]
     },
     "execution_count": 23,
     "metadata": {},
     "output_type": "execute_result"
    }
   ],
   "source": [
    "488 %21"
   ]
  },
  {
   "cell_type": "code",
   "execution_count": 24,
   "id": "9a967945",
   "metadata": {},
   "outputs": [
    {
     "data": {
      "text/plain": [
       "19"
      ]
     },
     "execution_count": 24,
     "metadata": {},
     "output_type": "execute_result"
    }
   ],
   "source": [
    "11 +8"
   ]
  },
  {
   "cell_type": "code",
   "execution_count": 25,
   "id": "42e5ed80",
   "metadata": {},
   "outputs": [
    {
     "data": {
      "text/plain": [
       "405"
      ]
     },
     "execution_count": 25,
     "metadata": {},
     "output_type": "execute_result"
    }
   ],
   "source": [
    "45* 9"
   ]
  },
  {
   "cell_type": "code",
   "execution_count": 26,
   "id": "49eb7508",
   "metadata": {},
   "outputs": [
    {
     "data": {
      "text/plain": [
       "35"
      ]
     },
     "execution_count": 26,
     "metadata": {},
     "output_type": "execute_result"
    }
   ],
   "source": [
    "808// 23"
   ]
  },
  {
   "cell_type": "code",
   "execution_count": 27,
   "id": "f8484957",
   "metadata": {},
   "outputs": [
    {
     "data": {
      "text/plain": [
       "0"
      ]
     },
     "execution_count": 27,
     "metadata": {},
     "output_type": "execute_result"
    }
   ],
   "source": [
    "4% 1"
   ]
  },
  {
   "cell_type": "code",
   "execution_count": 28,
   "id": "459eaeb0",
   "metadata": {},
   "outputs": [
    {
     "data": {
      "text/plain": [
       "0"
      ]
     },
     "execution_count": 28,
     "metadata": {},
     "output_type": "execute_result"
    }
   ],
   "source": [
    "0 *28"
   ]
  },
  {
   "cell_type": "code",
   "execution_count": 29,
   "id": "95bced8c",
   "metadata": {},
   "outputs": [
    {
     "data": {
      "text/plain": [
       "0.4429735234215886"
      ]
     },
     "execution_count": 29,
     "metadata": {},
     "output_type": "execute_result"
    }
   ],
   "source": [
    "435/ 982"
   ]
  },
  {
   "cell_type": "code",
   "execution_count": 30,
   "id": "e8528a78",
   "metadata": {},
   "outputs": [
    {
     "data": {
      "text/plain": [
       "3"
      ]
     },
     "execution_count": 30,
     "metadata": {},
     "output_type": "execute_result"
    }
   ],
   "source": [
    "6- 3"
   ]
  },
  {
   "cell_type": "code",
   "execution_count": 31,
   "id": "adf2aa7d",
   "metadata": {},
   "outputs": [
    {
     "data": {
      "text/plain": [
       "1.5"
      ]
     },
     "execution_count": 31,
     "metadata": {},
     "output_type": "execute_result"
    }
   ],
   "source": [
    "1 *1.5"
   ]
  },
  {
   "cell_type": "code",
   "execution_count": 32,
   "id": "636e2e43",
   "metadata": {},
   "outputs": [
    {
     "data": {
      "text/plain": [
       "1"
      ]
     },
     "execution_count": 32,
     "metadata": {},
     "output_type": "execute_result"
    }
   ],
   "source": [
    "65 %2"
   ]
  },
  {
   "cell_type": "code",
   "execution_count": 33,
   "id": "a6a68f4d",
   "metadata": {},
   "outputs": [
    {
     "data": {
      "text/plain": [
       "90"
      ]
     },
     "execution_count": 33,
     "metadata": {},
     "output_type": "execute_result"
    }
   ],
   "source": [
    "10* 9"
   ]
  },
  {
   "cell_type": "code",
   "execution_count": 34,
   "id": "a57f3f9a",
   "metadata": {},
   "outputs": [
    {
     "data": {
      "text/plain": [
       "81"
      ]
     },
     "execution_count": 34,
     "metadata": {},
     "output_type": "execute_result"
    }
   ],
   "source": [
    "245 //3"
   ]
  },
  {
   "cell_type": "code",
   "execution_count": 36,
   "id": "84b3d549",
   "metadata": {},
   "outputs": [
    {
     "data": {
      "text/plain": [
       "0"
      ]
     },
     "execution_count": 36,
     "metadata": {},
     "output_type": "execute_result"
    }
   ],
   "source": [
    "33* 0"
   ]
  },
  {
   "cell_type": "code",
   "execution_count": 37,
   "id": "a58d40d6",
   "metadata": {},
   "outputs": [
    {
     "data": {
      "text/plain": [
       "4.5"
      ]
     },
     "execution_count": 37,
     "metadata": {},
     "output_type": "execute_result"
    }
   ],
   "source": [
    "9 /2"
   ]
  },
  {
   "cell_type": "code",
   "execution_count": 38,
   "id": "d0db87ca",
   "metadata": {},
   "outputs": [
    {
     "data": {
      "text/plain": [
       "167"
      ]
     },
     "execution_count": 38,
     "metadata": {},
     "output_type": "execute_result"
    }
   ],
   "source": [
    "89+ 78"
   ]
  },
  {
   "cell_type": "markdown",
   "id": "4847f855",
   "metadata": {},
   "source": [
    "#### COMPOUND OPERATORS\n",
    "\n",
    "Change the value of a variable and re-assign the new value to the same variable. This method saves you a step; all compound operators follow the same pattern:\n",
    "    \n",
    "    variable_a = variable_a + 10 <<<--->>> variable_a += 10\n",
    "    \n",
    "variable_a is now equal to the original value of variable_a plus 10. Compound operators include:\n",
    "\n",
    "    +=  : a = a + b\n",
    "    -=  : a = a - b\n",
    "    *=  : a = a * b\n",
    "    /=  : a = a / b\n",
    "    %=  : a = a % b\n",
    "    **= : a = a ** b\n",
    "    //= : a = a // b\n",
    "    \n",
    "Convert all the equations below to use compound operators. "
   ]
  },
  {
   "cell_type": "code",
   "execution_count": 40,
   "id": "e404834e",
   "metadata": {},
   "outputs": [
    {
     "name": "stdout",
     "output_type": "stream",
     "text": [
      "14\n"
     ]
    }
   ],
   "source": [
    "a = 9 // 2\n",
    "a += 10\n",
    "print(a)"
   ]
  },
  {
   "cell_type": "code",
   "execution_count": 41,
   "id": "822faf79",
   "metadata": {},
   "outputs": [
    {
     "name": "stdout",
     "output_type": "stream",
     "text": [
      "267.0\n"
     ]
    }
   ],
   "source": [
    "a= 189.0 \n",
    "a += 78\n",
    "print(a)"
   ]
  },
  {
   "cell_type": "code",
   "execution_count": 42,
   "id": "6258bd09",
   "metadata": {},
   "outputs": [
    {
     "name": "stdout",
     "output_type": "stream",
     "text": [
      "1\n"
     ]
    }
   ],
   "source": [
    "a= 3 \n",
    "a-= 2\n",
    "print(a)"
   ]
  },
  {
   "cell_type": "code",
   "execution_count": 43,
   "id": "4f75b3dd",
   "metadata": {},
   "outputs": [
    {
     "name": "stdout",
     "output_type": "stream",
     "text": [
      "6\n"
     ]
    }
   ],
   "source": [
    "a=5 \n",
    "a+= 1\n",
    "print(a)"
   ]
  },
  {
   "cell_type": "code",
   "execution_count": 44,
   "id": "7ccd412b",
   "metadata": {},
   "outputs": [
    {
     "name": "stdout",
     "output_type": "stream",
     "text": [
      "0\n"
     ]
    }
   ],
   "source": [
    "a=8 \n",
    "a*= 0\n",
    "print(a)"
   ]
  },
  {
   "cell_type": "code",
   "execution_count": 45,
   "id": "85927104",
   "metadata": {},
   "outputs": [
    {
     "name": "stdout",
     "output_type": "stream",
     "text": [
      "0\n"
     ]
    }
   ],
   "source": [
    "a=4 \n",
    "a %= 1\n",
    "print(a)"
   ]
  },
  {
   "cell_type": "code",
   "execution_count": 46,
   "id": "c98f0c5b",
   "metadata": {},
   "outputs": [
    {
     "name": "stdout",
     "output_type": "stream",
     "text": [
      "2\n"
     ]
    }
   ],
   "source": [
    "a=5 \n",
    "a//= 2\n",
    "print(a)"
   ]
  },
  {
   "cell_type": "code",
   "execution_count": 47,
   "id": "5976228b",
   "metadata": {},
   "outputs": [
    {
     "name": "stdout",
     "output_type": "stream",
     "text": [
      "2.0\n"
     ]
    }
   ],
   "source": [
    "a=6 \n",
    "a/= 3\n",
    "print(a)"
   ]
  },
  {
   "cell_type": "code",
   "execution_count": 48,
   "id": "42dc1e45",
   "metadata": {},
   "outputs": [
    {
     "name": "stdout",
     "output_type": "stream",
     "text": [
      "18\n"
     ]
    }
   ],
   "source": [
    "a=9 \n",
    "a*= 2\n",
    "print(a)"
   ]
  },
  {
   "cell_type": "code",
   "execution_count": 49,
   "id": "c50af2d5",
   "metadata": {},
   "outputs": [
    {
     "name": "stdout",
     "output_type": "stream",
     "text": [
      "9\n"
     ]
    }
   ],
   "source": [
    "a=10 \n",
    "a-= 1\n",
    "print(a)"
   ]
  },
  {
   "cell_type": "code",
   "execution_count": 50,
   "id": "ebad1582",
   "metadata": {},
   "outputs": [
    {
     "name": "stdout",
     "output_type": "stream",
     "text": [
      "625\n"
     ]
    }
   ],
   "source": [
    "a=5 \n",
    "a**= 4\n",
    "print(a)"
   ]
  },
  {
   "cell_type": "code",
   "execution_count": 51,
   "id": "24f4ccb5",
   "metadata": {},
   "outputs": [
    {
     "name": "stdout",
     "output_type": "stream",
     "text": [
      "6\n"
     ]
    }
   ],
   "source": [
    "a=8 \n",
    "a-= 2\n",
    "print(a)"
   ]
  },
  {
   "cell_type": "code",
   "execution_count": 52,
   "id": "f2b5e89e",
   "metadata": {},
   "outputs": [
    {
     "name": "stdout",
     "output_type": "stream",
     "text": [
      "10\n"
     ]
    }
   ],
   "source": [
    "a=10 \n",
    "a+ 2\n",
    "print(a)"
   ]
  },
  {
   "cell_type": "code",
   "execution_count": 53,
   "id": "1a964bed",
   "metadata": {},
   "outputs": [
    {
     "name": "stdout",
     "output_type": "stream",
     "text": [
      "18.7\n"
     ]
    }
   ],
   "source": [
    "a=11 \n",
    "a*= 1.7\n",
    "print(a)"
   ]
  },
  {
   "cell_type": "code",
   "execution_count": 54,
   "id": "cef300d5",
   "metadata": {},
   "outputs": [
    {
     "name": "stdout",
     "output_type": "stream",
     "text": [
      "6\n"
     ]
    }
   ],
   "source": [
    "a=9 \n",
    "a-= 3\n",
    "print(a)"
   ]
  },
  {
   "cell_type": "code",
   "execution_count": 55,
   "id": "4ac33b3d",
   "metadata": {},
   "outputs": [
    {
     "name": "stdout",
     "output_type": "stream",
     "text": [
      "2401\n"
     ]
    }
   ],
   "source": [
    " a=7 \n",
    "a**= 4\n",
    "print(a)"
   ]
  },
  {
   "cell_type": "code",
   "execution_count": 57,
   "id": "6623aad6",
   "metadata": {},
   "outputs": [
    {
     "name": "stdout",
     "output_type": "stream",
     "text": [
      "1\n"
     ]
    }
   ],
   "source": [
    "a=11 \n",
    "a%=2\n",
    "print(a)"
   ]
  },
  {
   "cell_type": "code",
   "execution_count": 58,
   "id": "73fc9417",
   "metadata": {},
   "outputs": [
    {
     "name": "stdout",
     "output_type": "stream",
     "text": [
      "2.0\n"
     ]
    }
   ],
   "source": [
    "a=8 \n",
    "a/= 4\n",
    "print(a)"
   ]
  },
  {
   "cell_type": "code",
   "execution_count": 59,
   "id": "a7b938dc",
   "metadata": {},
   "outputs": [
    {
     "name": "stdout",
     "output_type": "stream",
     "text": [
      "25\n"
     ]
    }
   ],
   "source": [
    "a=5 \n",
    "a*= 5\n",
    "print(a)"
   ]
  },
  {
   "cell_type": "code",
   "execution_count": 61,
   "id": "0d726462",
   "metadata": {},
   "outputs": [
    {
     "name": "stdout",
     "output_type": "stream",
     "text": [
      "2\n"
     ]
    }
   ],
   "source": [
    "a=7 \n",
    "a%= 5\n",
    "print(a)"
   ]
  },
  {
   "cell_type": "code",
   "execution_count": 63,
   "id": "8b14a330",
   "metadata": {},
   "outputs": [
    {
     "name": "stdout",
     "output_type": "stream",
     "text": [
      "32768\n"
     ]
    }
   ],
   "source": [
    "a=8 \n",
    "a**= 5\n",
    "print(a)"
   ]
  },
  {
   "cell_type": "code",
   "execution_count": 64,
   "id": "22f9b389",
   "metadata": {},
   "outputs": [
    {
     "name": "stdout",
     "output_type": "stream",
     "text": [
      "4\n"
     ]
    }
   ],
   "source": [
    "a=12 \n",
    "a//= 3\n",
    "print(a)"
   ]
  },
  {
   "cell_type": "markdown",
   "id": "ded228b7",
   "metadata": {},
   "source": [
    "#### ESCAPE CHARACTERS\n",
    "\n",
    "An escape character allows you to include special characters in a string that would otherwise return an error. To use escape characters, add a backslash (\\) before the character you want to escape:\n",
    "\n",
    "    \" \\ \" use a single backslash to add apostrophe's in strings \n",
    "    \" \\n \" use to insert new lines in your strings\n",
    "    \" \\t \" use to insert tab spaces into your strings\n",
    "    \n",
    "Fix the code below to insert the correct escape character into the string. "
   ]
  },
  {
   "cell_type": "code",
   "execution_count": 65,
   "id": "f32087c4",
   "metadata": {},
   "outputs": [
    {
     "name": "stdout",
     "output_type": "stream",
     "text": [
      "Hello, what's up?\n"
     ]
    }
   ],
   "source": [
    "print('Hello, what\\'s up?')"
   ]
  },
  {
   "cell_type": "code",
   "execution_count": 67,
   "id": "f95259b6",
   "metadata": {},
   "outputs": [
    {
     "name": "stdout",
     "output_type": "stream",
     "text": [
      "Hello, \n",
      "I wish the first hello was on its own line!\n"
     ]
    }
   ],
   "source": [
    "print(\"Hello, \\nI wish the first hello was on its own line!\")"
   ]
  },
  {
   "cell_type": "code",
   "execution_count": 68,
   "id": "4f91339d",
   "metadata": {},
   "outputs": [
    {
     "name": "stdout",
     "output_type": "stream",
     "text": [
      "Hello \t I wish there was a long space after the first Hello.\n"
     ]
    }
   ],
   "source": [
    "print(\"Hello \\t I wish there was a long space after the first Hello.\")"
   ]
  },
  {
   "cell_type": "markdown",
   "id": "26b9ffa2",
   "metadata": {},
   "source": [
    "#### FORMATTED STRINGS PT 1\n",
    "\n",
    "Formatted strings allow you to return strings with specific formatting. A formatted string uses the following code to product output that looks a certain way:\n",
    "\n",
    "    {}  : a place holder\n",
    "\n",
    "The placeholder is used to insert the value of a specific variable into the string. All you need to do is insert the name of the variable and whatever value is assigned to that variable will show up when you print the statement. Complete the code in the cells below to print out the proper formatted strings. "
   ]
  },
  {
   "cell_type": "code",
   "execution_count": 69,
   "id": "5a18b3b4",
   "metadata": {},
   "outputs": [
    {
     "name": "stdout",
     "output_type": "stream",
     "text": [
      "Jasmine\n"
     ]
    }
   ],
   "source": [
    "x = \"Jasmine\"\n",
    "\n",
    "## complete the code below to print the statement \"Hello, [name]!\"\n",
    "\n",
    "print(f\"{x}\")"
   ]
  },
  {
   "cell_type": "code",
   "execution_count": 70,
   "id": "ceed705f",
   "metadata": {},
   "outputs": [
    {
     "name": "stdout",
     "output_type": "stream",
     "text": [
      "My favorite animal is a Cat\n"
     ]
    }
   ],
   "source": [
    "x = \"Cat\"\n",
    "\n",
    "## complete the code below to print the statement \"My favorite animal is a Cat\"\n",
    "\n",
    "print(f\"My favorite animal is a {x}\")"
   ]
  },
  {
   "cell_type": "code",
   "execution_count": 72,
   "id": "1bcc9a0d",
   "metadata": {},
   "outputs": [
    {
     "name": "stdout",
     "output_type": "stream",
     "text": [
      "My favorite actor is Tom Hanks\n"
     ]
    }
   ],
   "source": [
    "x = \"Hank\"\n",
    "\n",
    "## complete the code below to print the statement \"My favorite actor is Tom Hanks\"\n",
    "\n",
    "print(f\"My favorite actor is Tom {x}s\")"
   ]
  },
  {
   "cell_type": "code",
   "execution_count": 83,
   "id": "251f7329",
   "metadata": {},
   "outputs": [
    {
     "name": "stdout",
     "output_type": "stream",
     "text": [
      "Let's play chess, which color do you want to be? Black or White?\n"
     ]
    }
   ],
   "source": [
    "a = \"Black\"\n",
    "b = \"White\"\n",
    "\n",
    "## complete the code below to print the statement \"Let's play chess, which color do you want to be? Black or White?\"\n",
    "\n",
    "print(f\"Let\\'s play chess, which color do you want to be? {a} or {b}?\")"
   ]
  },
  {
   "cell_type": "code",
   "execution_count": 85,
   "id": "a90dee16",
   "metadata": {},
   "outputs": [
    {
     "name": "stdout",
     "output_type": "stream",
     "text": [
      "The three cities I visited during my vacation were Paris, Bristol, Dublin.\n"
     ]
    }
   ],
   "source": [
    "a = \"Paris\"\n",
    "b = \"Dublin\"\n",
    "c = \"Bristol\"\n",
    "\n",
    "## complete the code below to print the statement \"The three cities I visited during my vacation were Paris, Bristol, and Dublin.\"\n",
    "\n",
    "print(f\"The three cities I visited during my vacation were {a}, {c}, {b}.\")"
   ]
  },
  {
   "cell_type": "markdown",
   "id": "c43d80dc",
   "metadata": {},
   "source": [
    "#### FORMATTED STRINGS PT 2\n",
    "\n",
    "Formatted strings allow you to return strings with specific formatting. A formatted string uses the following code to product output that looks a certain way:\n",
    "\n",
    "    ,   : shows commas in thousands place\n",
    "    .2f : shows 2 digits after the decimal point\n",
    "    .2% : shows 2 digits after the decimal point in percentage (%)\n",
    "\n",
    "The numeric formatting options allow you to return a number with a specific format. Typically, this includes adding a comma in the thousands place and truncating the amount of digits found after a decimal point. Complete the following questions in the cells below:\n",
    "\n",
    "1. Print the following number with commas and 1 number after the decimal: 49792862.39231\n",
    "2. Print the following number with commas and 3 number after the decimal: 3999876.009\n",
    "3. Print the following number as a percentage with 2 numbers after the decimal: .03974\n",
    "4. Print the following number with commas: 1000000000000000000\n",
    "5. Write the code to produce this output: 7, 890.00\n",
    "6. Write the code to product this output: 567.00045\n",
    "7. Print the following number with commas and no numbers after the decimal: 3450000"
   ]
  },
  {
   "cell_type": "code",
   "execution_count": 110,
   "id": "ec1a4d0a",
   "metadata": {},
   "outputs": [
    {
     "name": "stdout",
     "output_type": "stream",
     "text": [
      "  49,792,862.4\n"
     ]
    }
   ],
   "source": [
    "x = 49792862.39231\n",
    "print(f' {x: ,.1f}')"
   ]
  },
  {
   "cell_type": "code",
   "execution_count": 111,
   "id": "0e45bfe0",
   "metadata": {},
   "outputs": [
    {
     "name": "stdout",
     "output_type": "stream",
     "text": [
      "  3,999,876.009\n"
     ]
    }
   ],
   "source": [
    "y = 3999876.009\n",
    "print(f' {y: ,.3f}')"
   ]
  },
  {
   "cell_type": "code",
   "execution_count": 121,
   "id": "98930a6b",
   "metadata": {},
   "outputs": [
    {
     "name": "stdout",
     "output_type": "stream",
     "text": [
      "  3.97%\n"
     ]
    }
   ],
   "source": [
    "z = .03974\n",
    "print(f' {z: .2%}')"
   ]
  },
  {
   "cell_type": "code",
   "execution_count": 122,
   "id": "23513cb0",
   "metadata": {},
   "outputs": [
    {
     "name": "stdout",
     "output_type": "stream",
     "text": [
      "  1,000,000,000,000,000,000\n"
     ]
    }
   ],
   "source": [
    "a = 1000000000000000000\n",
    "print(f' {a: ,}')"
   ]
  },
  {
   "cell_type": "code",
   "execution_count": 123,
   "id": "a64e0bf8",
   "metadata": {
    "scrolled": true
   },
   "outputs": [
    {
     "name": "stdout",
     "output_type": "stream",
     "text": [
      "  7,890.00\n"
     ]
    }
   ],
   "source": [
    "num =7890\n",
    "print(f' {num: ,.2f}')"
   ]
  },
  {
   "cell_type": "code",
   "execution_count": 318,
   "id": "231ddc3b",
   "metadata": {},
   "outputs": [
    {
     "name": "stdout",
     "output_type": "stream",
     "text": [
      " 567.00045\n"
     ]
    }
   ],
   "source": [
    "numbie = 567.00045\n",
    "print(f'{numbie: .5f}')"
   ]
  },
  {
   "cell_type": "code",
   "execution_count": 124,
   "id": "599a4a7d",
   "metadata": {},
   "outputs": [
    {
     "name": "stdout",
     "output_type": "stream",
     "text": [
      "  3,450,000\n"
     ]
    }
   ],
   "source": [
    "geez= 3450000\n",
    "print(f' {geez: ,}')"
   ]
  },
  {
   "cell_type": "markdown",
   "id": "5675f4cf",
   "metadata": {},
   "source": [
    "#### INPUT FUNCTION \n",
    "\n",
    "The input function directly asks the user (you) for information. \n",
    "\n",
    "    input(tell the user what you want them to do!)\n",
    "    \n",
    "1. Use the input() function to find a users name\n",
    "2. Use the input() function to find a users address\n",
    "3. Use the input() function to find a users phone number\n",
    "4. Use the input() function to find a users age\n",
    "5. Using a formatted string, put all this information together and print a statement using what you learned about the user. "
   ]
  },
  {
   "cell_type": "code",
   "execution_count": 137,
   "id": "9213c2fd",
   "metadata": {},
   "outputs": [
    {
     "name": "stdout",
     "output_type": "stream",
     "text": [
      "What is your name?: tim\n",
      "What is your address?: 46 blake lane\n",
      "What is your phone number?: 703-869-8834\n",
      "What is your age in years?: 42\n",
      "My friend's name is tim, their address is 46 blake lane, their phone number is 703-869-8834, and they are 42 years old!\n"
     ]
    }
   ],
   "source": [
    "## i'll get you started...\n",
    "\n",
    "name = input(\"What is your name?: \")\n",
    "address = input(\"What is your address?: \")\n",
    "phone_number = input(\"What is your phone number?: \")\n",
    "age = int(input(\"What is your age in years?: \"))\n",
    "print(f'My friend\\'s name is {name}, their address is {address}, their phone number is {phone_number}, and they are {age} years old!')"
   ]
  },
  {
   "cell_type": "code",
   "execution_count": null,
   "id": "03895268",
   "metadata": {},
   "outputs": [],
   "source": []
  },
  {
   "cell_type": "code",
   "execution_count": null,
   "id": "096f4878",
   "metadata": {},
   "outputs": [],
   "source": []
  },
  {
   "cell_type": "markdown",
   "id": "3439a3eb",
   "metadata": {},
   "source": [
    "#### DATA TYPE CONVERSION FUNCTIONS\n",
    "\n",
    "You can convert data to various types using three built-in functions. \n",
    "* the int() function turns a value into an integer\n",
    "* the float() function turns a value into a float\n",
    "* the str() function turns a value into a string\n",
    "\n",
    "Complete the code below to make the necessary changes. "
   ]
  },
  {
   "cell_type": "code",
   "execution_count": 138,
   "id": "ac1ddb88",
   "metadata": {},
   "outputs": [
    {
     "data": {
      "text/plain": [
       "187.0"
      ]
     },
     "execution_count": 138,
     "metadata": {},
     "output_type": "execute_result"
    }
   ],
   "source": [
    "x = \"187\"\n",
    "\n",
    "### convert x into a float value\n",
    "float(x)\n",
    "\n"
   ]
  },
  {
   "cell_type": "code",
   "execution_count": 139,
   "id": "0167e572",
   "metadata": {},
   "outputs": [
    {
     "data": {
      "text/plain": [
       "'123.56'"
      ]
     },
     "execution_count": 139,
     "metadata": {},
     "output_type": "execute_result"
    }
   ],
   "source": [
    "y = 123.56\n",
    "\n",
    "### convert y into a string value\n",
    "str(y)\n"
   ]
  },
  {
   "cell_type": "code",
   "execution_count": 141,
   "id": "1190bded",
   "metadata": {},
   "outputs": [
    {
     "data": {
      "text/plain": [
       "99.0"
      ]
     },
     "execution_count": 141,
     "metadata": {},
     "output_type": "execute_result"
    }
   ],
   "source": [
    "z = 99\n",
    "\n",
    "### convert z into a float value \n",
    "\n",
    "float(z)"
   ]
  },
  {
   "cell_type": "markdown",
   "id": "8d175867",
   "metadata": {},
   "source": [
    "# { Module 1 Quiz }"
   ]
  },
  {
   "cell_type": "markdown",
   "id": "87bbeab8",
   "metadata": {},
   "source": [
    "1. Print out your favorite snack and write a comment about what you are doing in the code. \n",
    "2. Print the sum of the following values: 3, 56, 21, 11, 7, 0, 5\n",
    "3. Print the remainder of the values 435 and 6\n",
    "4. Create a variable called 'eye color' and store your eye color to the variable. Print a sentence describing your eye color and using the variable in the sentence. \n",
    "5. Write a code to get two integers from a user. Print out their sum."
   ]
  },
  {
   "cell_type": "code",
   "execution_count": 142,
   "id": "9dda6e42",
   "metadata": {},
   "outputs": [
    {
     "name": "stdout",
     "output_type": "stream",
     "text": [
      "what is your favorite snack? :doritos\n",
      "doritos\n"
     ]
    }
   ],
   "source": [
    "snack = input(\"what is your favorite snack? :\")\n",
    "print(snack)\n",
    "#I am asking for input and printing the output"
   ]
  },
  {
   "cell_type": "code",
   "execution_count": 144,
   "id": "fcc209d6",
   "metadata": {},
   "outputs": [
    {
     "name": "stdout",
     "output_type": "stream",
     "text": [
      "103\n"
     ]
    }
   ],
   "source": [
    "numbers = [3, 56, 21, 11, 7, 0, 5]\n",
    "print(sum(numbers))\n",
    "\n",
    "#I created a list called numbers and printed the sum of numbers"
   ]
  },
  {
   "cell_type": "code",
   "execution_count": 145,
   "id": "4474228d",
   "metadata": {},
   "outputs": [
    {
     "name": "stdout",
     "output_type": "stream",
     "text": [
      "3\n"
     ]
    }
   ],
   "source": [
    "x = 435 % 6\n",
    "print(x)\n",
    "#I use modulo math "
   ]
  },
  {
   "cell_type": "code",
   "execution_count": 151,
   "id": "67d80096",
   "metadata": {},
   "outputs": [
    {
     "name": "stdout",
     "output_type": "stream",
     "text": [
      "My eyes are brown...pretty boring when you think about it.\n"
     ]
    }
   ],
   "source": [
    "eye_color = \"brown\" #make sure you make the variable a string!\n",
    "print(f'My eyes are {eye_color}...pretty boring when you think about it.')\n",
    "#formatting strings are cool \n"
   ]
  },
  {
   "cell_type": "code",
   "execution_count": 149,
   "id": "59787d91",
   "metadata": {},
   "outputs": [
    {
     "name": "stdout",
     "output_type": "stream",
     "text": [
      "gimmie an integer: 12\n",
      "gimmie another integer: 14\n",
      "26\n"
     ]
    }
   ],
   "source": [
    "numb1 = int(input(\"gimmie an integer: \"))\n",
    "numb2 = int(input(\"gimmie another integer: \"))\n",
    "\n",
    "print(numb1 + numb2)\n",
    "\n",
    "#I ask for input then print the sum"
   ]
  },
  {
   "cell_type": "code",
   "execution_count": null,
   "id": "53b49a9a",
   "metadata": {},
   "outputs": [],
   "source": []
  },
  {
   "cell_type": "code",
   "execution_count": null,
   "id": "fdda3775",
   "metadata": {},
   "outputs": [],
   "source": []
  },
  {
   "cell_type": "markdown",
   "id": "c75fba17",
   "metadata": {},
   "source": [
    "## Module 2 Review"
   ]
  },
  {
   "cell_type": "markdown",
   "id": "87b6cfcd",
   "metadata": {},
   "source": [
    "#### IMPORTING LIBRARIES\n",
    "\n",
    "A library is a specific collection of python functions. You can use these functions by first importing the library into your notebook. Once you import your library, you can give it a nickname. The nickname is optional, but it makes it easier to use (or reference) the library throughout your code. \n",
    "\n",
    "    import [ library name ]\n",
    "    \n",
    "Importing a library and assigning a nickname:\n",
    "\n",
    "    import [ library name ] as [ nickname ]\n",
    "    \n",
    "Import the library \"random\" and nickname it \"rd\". "
   ]
  },
  {
   "cell_type": "code",
   "execution_count": 158,
   "id": "3538e862",
   "metadata": {},
   "outputs": [],
   "source": [
    "import random as rd"
   ]
  },
  {
   "cell_type": "code",
   "execution_count": null,
   "id": "9fcf2d97",
   "metadata": {},
   "outputs": [],
   "source": []
  },
  {
   "cell_type": "markdown",
   "id": "c6ddeed7",
   "metadata": {},
   "source": [
    "#### RANDOM NUMBER GENERATOR\n",
    "\n",
    "The random library contains a function that allows you to generate a random number. This library has two functions that are useful:\n",
    "\n",
    "    .random() : this will generate a random number \n",
    "    .randint() : this will generate a random integer within a specific range\n",
    "    \n",
    "When you want to use the function, you first have to reference the name of your library (or it's nickname) and then attach the function to the end of the library name. For example:\n",
    "\n",
    "    rd.random()\n",
    "    rd.randint() \n",
    "    rd.randint(0, 10) >>> this code will generate a random number between 0 and 10 \n",
    "\n",
    "1. Generate a random number\n",
    "2. Generate a random integer\n",
    "3. Generate a random integer between 1 and 100\n",
    "4. Generate a random integer between -10 and 10"
   ]
  },
  {
   "cell_type": "code",
   "execution_count": 162,
   "id": "e4ae5bb8",
   "metadata": {},
   "outputs": [
    {
     "name": "stdout",
     "output_type": "stream",
     "text": [
      "0.28417361262402707\n"
     ]
    }
   ],
   "source": [
    "x = rd.random()\n",
    "print(x)"
   ]
  },
  {
   "cell_type": "code",
   "execution_count": 212,
   "id": "183dbcca",
   "metadata": {},
   "outputs": [
    {
     "data": {
      "text/plain": [
       "0.9326095116634879"
      ]
     },
     "execution_count": 212,
     "metadata": {},
     "output_type": "execute_result"
    }
   ],
   "source": [
    "rd.random()"
   ]
  },
  {
   "cell_type": "code",
   "execution_count": 214,
   "id": "9670fcdd",
   "metadata": {},
   "outputs": [
    {
     "ename": "TypeError",
     "evalue": "randint() missing 2 required positional arguments: 'a' and 'b'",
     "output_type": "error",
     "traceback": [
      "\u001b[1;31m---------------------------------------------------------------------------\u001b[0m",
      "\u001b[1;31mTypeError\u001b[0m                                 Traceback (most recent call last)",
      "Input \u001b[1;32mIn [214]\u001b[0m, in \u001b[0;36m<cell line: 1>\u001b[1;34m()\u001b[0m\n\u001b[1;32m----> 1\u001b[0m \u001b[43mrd\u001b[49m\u001b[38;5;241;43m.\u001b[39;49m\u001b[43mrandint\u001b[49m\u001b[43m(\u001b[49m\u001b[43m)\u001b[49m\n",
      "\u001b[1;31mTypeError\u001b[0m: randint() missing 2 required positional arguments: 'a' and 'b'"
     ]
    }
   ],
   "source": [
    "rd.randint()"
   ]
  },
  {
   "cell_type": "code",
   "execution_count": 213,
   "id": "e64d59e8",
   "metadata": {},
   "outputs": [
    {
     "name": "stdout",
     "output_type": "stream",
     "text": [
      "53\n"
     ]
    }
   ],
   "source": [
    "print(rd.randint(1, 101))"
   ]
  },
  {
   "cell_type": "code",
   "execution_count": 166,
   "id": "84e39a2d",
   "metadata": {},
   "outputs": [
    {
     "name": "stdout",
     "output_type": "stream",
     "text": [
      "-9\n"
     ]
    }
   ],
   "source": [
    "print(rd.randint(-10, 11))"
   ]
  },
  {
   "cell_type": "code",
   "execution_count": null,
   "id": "d5641679",
   "metadata": {},
   "outputs": [],
   "source": []
  },
  {
   "cell_type": "markdown",
   "id": "5e925c51",
   "metadata": {},
   "source": [
    "#### LEN FUNCTION\n",
    "\n",
    "The len() function returns the length of a given value. This includes the length of a string, the amount of characters is a sentence (which also counts white spaces), the number of items in a list, etc. Complete the code below to determine the length of the following items. Before you run the code, try to guess what the length value is going to be. "
   ]
  },
  {
   "cell_type": "code",
   "execution_count": 180,
   "id": "694d46db",
   "metadata": {},
   "outputs": [
    {
     "data": {
      "text/plain": [
       "5"
      ]
     },
     "execution_count": 180,
     "metadata": {},
     "output_type": "execute_result"
    }
   ],
   "source": [
    "### what is the length of the following string:\n",
    "\n",
    "len(\"Hello\")"
   ]
  },
  {
   "cell_type": "code",
   "execution_count": 181,
   "id": "990c5881",
   "metadata": {},
   "outputs": [
    {
     "data": {
      "text/plain": [
       "6"
      ]
     },
     "execution_count": 181,
     "metadata": {},
     "output_type": "execute_result"
    }
   ],
   "source": [
    "### what is the length of the following string:\n",
    "\n",
    "len(\"123ABC\")"
   ]
  },
  {
   "cell_type": "code",
   "execution_count": 182,
   "id": "0d2e17d9",
   "metadata": {},
   "outputs": [
    {
     "data": {
      "text/plain": [
       "31"
      ]
     },
     "execution_count": 182,
     "metadata": {},
     "output_type": "execute_result"
    }
   ],
   "source": [
    "### what is the length of the following string:\n",
    "\n",
    "len(\"Hello, how are you doing today?\")"
   ]
  },
  {
   "cell_type": "code",
   "execution_count": 183,
   "id": "ef2c9c60",
   "metadata": {},
   "outputs": [
    {
     "data": {
      "text/plain": [
       "56"
      ]
     },
     "execution_count": 183,
     "metadata": {},
     "output_type": "execute_result"
    }
   ],
   "source": [
    "### what is the length of the following string:\n",
    "\n",
    "len(\"Hello, it's really nice to meet you! I hope you're well!\")"
   ]
  },
  {
   "cell_type": "code",
   "execution_count": 184,
   "id": "e5415e13",
   "metadata": {},
   "outputs": [
    {
     "data": {
      "text/plain": [
       "1"
      ]
     },
     "execution_count": 184,
     "metadata": {},
     "output_type": "execute_result"
    }
   ],
   "source": [
    "### what is the length of the following string:\n",
    "\n",
    "len(\" \")"
   ]
  },
  {
   "cell_type": "markdown",
   "id": "0d32284b",
   "metadata": {},
   "source": [
    "#### STRING METHODS\n",
    "\n",
    "There are several functions that are used specifically with strings. The most important functions to remember are:\n",
    "    \n",
    "<b> Change the Case </b>\n",
    "    \n",
    "    .title() >> change a string to title case\n",
    "    .upper() >> change a string to upper case\n",
    "    .lower() >> change a string to lower case\n",
    "    \n",
    "<b> Remove White Spaces from a String </b>\n",
    "\n",
    "    .strip() >> strip white spaces from both ends of a string\n",
    "    .rstrip() >> remove white spaces from the right-side of a string\n",
    "    .lstrip() >> remove white spaces from the left-side of a string\n",
    "    \n",
    "<b> Replace a value in a String with another value</b>\n",
    "\n",
    "    .replace() >> replace a specific character with another character\n",
    "    .replace([what you want to replace], [what to replace it with])\n",
    "    \n",
    "Complete the code below to practice the above string methods. "
   ]
  },
  {
   "cell_type": "code",
   "execution_count": 185,
   "id": "d1ecde8e",
   "metadata": {},
   "outputs": [
    {
     "data": {
      "text/plain": [
       "'George Washington'"
      ]
     },
     "execution_count": 185,
     "metadata": {},
     "output_type": "execute_result"
    }
   ],
   "source": [
    "name = \"gEOrGe washINGtoN\"\n",
    "name.title()\n",
    "## change the above string to title case"
   ]
  },
  {
   "cell_type": "code",
   "execution_count": 186,
   "id": "a342aa44",
   "metadata": {},
   "outputs": [
    {
     "data": {
      "text/plain": [
       "'hello what are you doing!'"
      ]
     },
     "execution_count": 186,
     "metadata": {},
     "output_type": "execute_result"
    }
   ],
   "source": [
    "yelling = \"HELLO WHAT ARE YOU DOING!\"\n",
    "yelling.lower()\n",
    "## change the above string to lowercase"
   ]
  },
  {
   "cell_type": "code",
   "execution_count": 187,
   "id": "f950dbc2",
   "metadata": {},
   "outputs": [
    {
     "data": {
      "text/plain": [
       "'The Great Gatsby'"
      ]
     },
     "execution_count": 187,
     "metadata": {},
     "output_type": "execute_result"
    }
   ],
   "source": [
    "book = \"the great gatsby\"\n",
    "book.title()\n",
    "## change the above string to title case"
   ]
  },
  {
   "cell_type": "code",
   "execution_count": 188,
   "id": "d94057a7",
   "metadata": {},
   "outputs": [
    {
     "data": {
      "text/plain": [
       "'NEW YORK'"
      ]
     },
     "execution_count": 188,
     "metadata": {},
     "output_type": "execute_result"
    }
   ],
   "source": [
    "city = \"nEW york\"\n",
    "city.upper()\n",
    "## change the above string to uppercase"
   ]
  },
  {
   "cell_type": "code",
   "execution_count": 190,
   "id": "4da01258",
   "metadata": {},
   "outputs": [
    {
     "data": {
      "text/plain": [
       "'Not all those who wander are lost.'"
      ]
     },
     "execution_count": 190,
     "metadata": {},
     "output_type": "execute_result"
    }
   ],
   "source": [
    "quote = \"        Not all those who wander are lost.         \"\n",
    "quote.strip()\n",
    "## strip the above string of white space on each side "
   ]
  },
  {
   "cell_type": "code",
   "execution_count": 191,
   "id": "9f8e9d33",
   "metadata": {},
   "outputs": [
    {
     "data": {
      "text/plain": [
       "'Not all those who wander are lost.         '"
      ]
     },
     "execution_count": 191,
     "metadata": {},
     "output_type": "execute_result"
    }
   ],
   "source": [
    "quote = \"        Not all those who wander are lost.         \"\n",
    "quote.lstrip()\n",
    "## strip the above string of white spaces on the left side"
   ]
  },
  {
   "cell_type": "code",
   "execution_count": 192,
   "id": "3867989e",
   "metadata": {},
   "outputs": [
    {
     "data": {
      "text/plain": [
       "'        Not all those who wander are lost.'"
      ]
     },
     "execution_count": 192,
     "metadata": {},
     "output_type": "execute_result"
    }
   ],
   "source": [
    "quote = \"        Not all those who wander are lost.         \"\n",
    "quote.rstrip()\n",
    "## strip the above string of white spaces on the right side"
   ]
  },
  {
   "cell_type": "raw",
   "id": "a437a07d",
   "metadata": {},
   "source": [
    "speech = \"4 score and seven years ago...\"\n",
    "speech.replace(\"4\", \"Four\")\n",
    "## in the above string, replace the value of \"4\" with the word \"four\""
   ]
  },
  {
   "cell_type": "code",
   "execution_count": 196,
   "id": "272661cb",
   "metadata": {},
   "outputs": [
    {
     "data": {
      "text/plain": [
       "'Four score and seven years ago...'"
      ]
     },
     "execution_count": 196,
     "metadata": {},
     "output_type": "execute_result"
    }
   ],
   "source": [
    "speech = \"4 score and seven years ago...\"\n",
    "speech.replace(\"4\", \"Four\")\n",
    "## in the above string, replace the value of \"4\" with the word \"four\""
   ]
  },
  {
   "cell_type": "code",
   "execution_count": 195,
   "id": "3f2d8aff",
   "metadata": {},
   "outputs": [
    {
     "data": {
      "text/plain": [
       "'4 score and seven years ago...'"
      ]
     },
     "execution_count": 195,
     "metadata": {},
     "output_type": "execute_result"
    }
   ],
   "source": [
    "speech = \"Four score and seven years ago...\"\n",
    "speech.replace(\"Four\", \"4\")\n",
    "## in the above string, replace the word of \"seven\" with the value \"7\""
   ]
  },
  {
   "cell_type": "code",
   "execution_count": 197,
   "id": "eb0a2616",
   "metadata": {},
   "outputs": [
    {
     "data": {
      "text/plain": [
       "'Four score and seven years ago.'"
      ]
     },
     "execution_count": 197,
     "metadata": {},
     "output_type": "execute_result"
    }
   ],
   "source": [
    "speech = \"Four score and seven years ago...\"\n",
    "speech.replace(\"...\", \".\")\n",
    "## in the above string, replace the \"...\" with a single period"
   ]
  },
  {
   "cell_type": "code",
   "execution_count": null,
   "id": "9433c964",
   "metadata": {},
   "outputs": [],
   "source": []
  },
  {
   "cell_type": "code",
   "execution_count": null,
   "id": "a060bb5d",
   "metadata": {},
   "outputs": [],
   "source": []
  },
  {
   "cell_type": "markdown",
   "id": "0f0bcd3a",
   "metadata": {},
   "source": [
    "#### INDEXING A STRING\n",
    "\n",
    "Strings are ordered sequences of characters and each character has a number associated with it. \n",
    "\n",
    "Indexing allows you to access individual characters in a string (or other ordered data types like a list) directly by using a numeric value, that numeric value is associated with a character/position in the string. \n",
    "\n",
    "In python, indexing is zero-based, meaning, the first character in the string has an index of 0, followed by 1, then 2, etc. See below for an example of how index values are associated with a string:\n",
    "\n",
    "    H[0]e[1]l[2]l[3]o[4]![5]\n",
    "    \n",
    "index value of 0 returns the character \"H\"\n",
    "index value of 1 returns the character \"e\"\n",
    "index value of 2 returns the character \"l\"\n",
    "index value of 3 returns the character \"l\"\n",
    "index value of 4 returns the character \"o\"\n",
    "index value of 5 returns the character \"!\"\n",
    "\n",
    "Complete the code below to practice indexing a specific string. "
   ]
  },
  {
   "cell_type": "code",
   "execution_count": 198,
   "id": "c8e51598",
   "metadata": {},
   "outputs": [
    {
     "data": {
      "text/plain": [
       "44"
      ]
     },
     "execution_count": 198,
     "metadata": {},
     "output_type": "execute_result"
    }
   ],
   "source": [
    "## run this cell to define the variable 'words'\n",
    "## determine the length (how many characters) of the passage \n",
    "\n",
    "words = \"To be, or not to be, that is the question...\"\n",
    "\n",
    "len(words)"
   ]
  },
  {
   "cell_type": "code",
   "execution_count": 199,
   "id": "c2c102f4",
   "metadata": {},
   "outputs": [
    {
     "data": {
      "text/plain": [
       "'T'"
      ]
     },
     "execution_count": 199,
     "metadata": {},
     "output_type": "execute_result"
    }
   ],
   "source": [
    "## index the variable 'words'\n",
    "# what character is in position 0?\n",
    "\n",
    "words[0]"
   ]
  },
  {
   "cell_type": "code",
   "execution_count": 200,
   "id": "b19dc375",
   "metadata": {},
   "outputs": [
    {
     "data": {
      "text/plain": [
       "'t'"
      ]
     },
     "execution_count": 200,
     "metadata": {},
     "output_type": "execute_result"
    }
   ],
   "source": [
    "## index the variable 'words'\n",
    "# what character is in position 15?\n",
    "words[14]"
   ]
  },
  {
   "cell_type": "code",
   "execution_count": 201,
   "id": "3f34ee5e",
   "metadata": {},
   "outputs": [
    {
     "data": {
      "text/plain": [
       "'r'"
      ]
     },
     "execution_count": 201,
     "metadata": {},
     "output_type": "execute_result"
    }
   ],
   "source": [
    "## index the variable 'words'\n",
    "# what character is in position 9?\n",
    "words[8]"
   ]
  },
  {
   "cell_type": "code",
   "execution_count": 202,
   "id": "81c90dbb",
   "metadata": {},
   "outputs": [
    {
     "data": {
      "text/plain": [
       "'i'"
      ]
     },
     "execution_count": 202,
     "metadata": {},
     "output_type": "execute_result"
    }
   ],
   "source": [
    "## index the variable 'words'\n",
    "# what character is in position 39?\n",
    "words[38]"
   ]
  },
  {
   "cell_type": "markdown",
   "id": "aab4ba3d",
   "metadata": {},
   "source": [
    "#### CUSTOMIZED FUNCTIONS \n",
    "\n",
    "Python allows you to create your own unique functions. This gives you a lot of flexibility on the tasks you can automate within your code. You can create a function to do practically anything -- print a single value, add two numbers together, remove white spaces from a string, etc. \n",
    "\n",
    "* A custom function begins with the keyword <b>def</b> and followed by a function name (of your choice). \n",
    "* The function may take argument(s) as input within the opening and closing parentheses, just after the function name and following by a colon. \n",
    "* After defining the function name and argument(s) a block of program statement(s) start on the next line and these statement(s) must be indented. Please note, adding arguments within the parentheses is optional!\n",
    "\n",
    "When you are defining a function, follow these steps:\n",
    "\n",
    "     def function_name(argument1, argument2, ...) :\n",
    "          statement_1\n",
    "          statement_2\n",
    "\n",
    "Complete the code below to define a series of functions. "
   ]
  },
  {
   "cell_type": "code",
   "execution_count": 203,
   "id": "796baaa1",
   "metadata": {},
   "outputs": [
    {
     "name": "stdout",
     "output_type": "stream",
     "text": [
      "10\n"
     ]
    }
   ],
   "source": [
    "# EXAMPLE #\n",
    "## define a function that takes one number and prints the number\n",
    "\n",
    "def print_num(num):\n",
    "    print(num)\n",
    "\n",
    "## call the function\n",
    "## this function takes one argument, so you have to give the function info\n",
    "\n",
    "print_num(10)"
   ]
  },
  {
   "cell_type": "code",
   "execution_count": 204,
   "id": "539cd9e3",
   "metadata": {},
   "outputs": [
    {
     "name": "stdout",
     "output_type": "stream",
     "text": [
      "Enter a number: 45\n",
      "45\n"
     ]
    }
   ],
   "source": [
    "# EXAMPLE #\n",
    "## define a function that generates one number and prints the number\n",
    "\n",
    "def print_num_b():\n",
    "    num = int(input(\"Enter a number: \"))\n",
    "    print(num)\n",
    "\n",
    "## call the function\n",
    "## this function takes no arguments, therefore, we can call the function without giving information first\n",
    "\n",
    "print_num_b()"
   ]
  },
  {
   "cell_type": "code",
   "execution_count": 208,
   "id": "b7303870",
   "metadata": {},
   "outputs": [],
   "source": [
    "## define a function that takes two numbers and adds them together\n",
    "\n",
    "def print_nums(num1, num2):\n",
    "    num1 = int(input(\"Enter a number: \"))\n",
    "    num2 = int(input(\"Enter another number: \"))\n",
    "    print(num1 + num2)\n",
    "\n",
    "## call the function below\n",
    "## this function takes two arguments, so you have to give the function info\n",
    "\n"
   ]
  },
  {
   "cell_type": "code",
   "execution_count": 210,
   "id": "9d30be02",
   "metadata": {},
   "outputs": [
    {
     "name": "stdout",
     "output_type": "stream",
     "text": [
      "Enter a number: 45\n",
      "Enter another number: 23\n",
      "68\n"
     ]
    }
   ],
   "source": [
    "## define a function that generates two numbers and adds them together\n",
    "\n",
    "def print_nums_b():\n",
    "    num1 = int(input(\"Enter a number: \"))\n",
    "    num2 = int(input(\"Enter another number: \"))\n",
    "    print(num1 + num2)\n",
    "print_nums_b()\n",
    "## call the function below\n",
    "## this function takes no arguments, therefore, we can call the function without giving information first\n",
    "\n"
   ]
  },
  {
   "cell_type": "code",
   "execution_count": 216,
   "id": "ad99120a",
   "metadata": {},
   "outputs": [
    {
     "name": "stdout",
     "output_type": "stream",
     "text": [
      "give me a string!: hellooooooo\n",
      "HELLOOOOOOO\n"
     ]
    }
   ],
   "source": [
    "## define a function that takes a string and changes the case to uppercase\n",
    "\n",
    "def uppercased(x):\n",
    "    x = input(\"give me a string!: \")\n",
    "    x = x.upper()\n",
    "    print(x)\n",
    "uppercased(x) \n",
    "## call the function below\n",
    "## this function takes one argument, so you have to give the function info\n",
    "\n"
   ]
  },
  {
   "cell_type": "code",
   "execution_count": 219,
   "id": "7e297a09",
   "metadata": {},
   "outputs": [
    {
     "name": "stdout",
     "output_type": "stream",
     "text": [
      "gimmie a number: 34.5\n",
      "gimmie another number: 23.3\n",
      "803.85\n"
     ]
    }
   ],
   "source": [
    "## define a function that asks a user for two numbers then multiplies those numbers together\n",
    "\n",
    "def multi(x, y):\n",
    "    num1 = float(input(\"gimmie a number: \"))\n",
    "    num2 = float(input(\"gimmie another number: \"))\n",
    "    print(num1 * num2)\n",
    "multi(x, y)    \n",
    "## call the function below\n",
    "## this function takes two arguments, so you have to give the function info\n",
    "\n"
   ]
  },
  {
   "cell_type": "code",
   "execution_count": null,
   "id": "a1d3e647",
   "metadata": {},
   "outputs": [],
   "source": [
    "## define a function that asks a user for two numbers then multiplies those numbers together\n",
    "\n",
    "def multi_b():\n",
    "    x = int(input(\"Enter a number: \")) \n",
    "    y = int(input(\"Enter another number: \"))\n",
    "    print(x * y)\n",
    "\n",
    "## call the function below\n",
    "## this function takes no arguments, therefore, we can call the function without giving information first\n",
    "\n"
   ]
  },
  {
   "cell_type": "markdown",
   "id": "b7f66b5e",
   "metadata": {},
   "source": [
    "# { Module 2 Quiz }\n",
    "\n",
    "1. Convert \"890\" to an integer data type\n",
    "2. Get two numbers from a user. Use these two numbers as the starting and ending number when generating a random integer. Run the code to produce a random integer within this range.\n",
    "3. Remove the whitespaces from the ends of the following string: \"   What is your name   ?\"\n",
    "4. After you remove the whitespaces from the above string, index the string to find the character in position 3.\n",
    "5. Define a function that asks a user for three numbers. Add the first two numbers together. Then, multiply the sum of the first two numbers with the third number. After you define the function, use it!"
   ]
  },
  {
   "cell_type": "code",
   "execution_count": 220,
   "id": "0a78e3fc",
   "metadata": {},
   "outputs": [
    {
     "data": {
      "text/plain": [
       "890"
      ]
     },
     "execution_count": 220,
     "metadata": {},
     "output_type": "execute_result"
    }
   ],
   "source": [
    "x = \"890\"\n",
    "int(x)"
   ]
  },
  {
   "cell_type": "code",
   "execution_count": 221,
   "id": "1a0ac364",
   "metadata": {},
   "outputs": [
    {
     "name": "stdout",
     "output_type": "stream",
     "text": [
      "Enter a number: 45\n",
      "Enter another number: 65\n",
      "50\n"
     ]
    }
   ],
   "source": [
    "import random as rand\n",
    "\n",
    "x = int(input(\"Enter a number: \")) \n",
    "y = int(input(\"Enter another number: \"))\n",
    "\n",
    "print(rand.randint(x, y))"
   ]
  },
  {
   "cell_type": "markdown",
   "id": "000f4b45",
   "metadata": {},
   "source": [
    "## Module 3 Review"
   ]
  },
  {
   "cell_type": "markdown",
   "id": "f414038b",
   "metadata": {},
   "source": [
    "#### COMPARISON AND BOOLEAN OPERATORS\n",
    "\n",
    "Comparison operators compare two values to each other and return a result based on that comparison (either true or false). The comparison operators you have available are as follows:\n",
    "\n",
    "    == : equal to\n",
    "    != : not equal to\n",
    "    >  : greater than\n",
    "    <  : less than\n",
    "    >= : greater than or equal to\n",
    "    <= : less than or equal to\n",
    "    \n",
    "For example, x = 10 and y = 14, see below for the following comparison results:\n",
    "\n",
    "       x == y >> FALSE\n",
    "       x != y >> TRUE\n",
    "       x > y >> FALSE\n",
    "       x < y >> TRUE\n",
    "       x >= y >> FALSE\n",
    "       x <= y >> TRUE\n",
    "    \n",
    "1. Create 5 conditions that produce a FALSE result\n",
    "2. Create 5 conditions that produce a TRUE result"
   ]
  },
  {
   "cell_type": "code",
   "execution_count": 227,
   "id": "946b26a8",
   "metadata": {},
   "outputs": [
    {
     "data": {
      "text/plain": [
       "False"
      ]
     },
     "execution_count": 227,
     "metadata": {},
     "output_type": "execute_result"
    }
   ],
   "source": [
    "3==4\n",
    "4>5\n",
    "6<5\n",
    "4\n",
    "1!=1\n",
    "4<=2"
   ]
  },
  {
   "cell_type": "code",
   "execution_count": 230,
   "id": "19b9d793",
   "metadata": {},
   "outputs": [
    {
     "data": {
      "text/plain": [
       "True"
      ]
     },
     "execution_count": 230,
     "metadata": {},
     "output_type": "execute_result"
    }
   ],
   "source": [
    "3==3\n",
    "5>4\n",
    "3 != 4\n",
    "50<=51\n",
    "10<11"
   ]
  },
  {
   "cell_type": "markdown",
   "id": "66b6fa06",
   "metadata": {},
   "source": [
    "#### CONDITIONAL STATEMENTS\n",
    "\n",
    "Conditional statements check a statement for truth and executes a specific task depending on if the statement is true or false. Conditional statements include:\n",
    "\n",
    "    IF >> if \n",
    "    ELSE >> else\n",
    "    ELIF >> else if "
   ]
  },
  {
   "cell_type": "markdown",
   "id": "e2fd1d7e",
   "metadata": {},
   "source": [
    "#### IF STATEMENTS\n",
    "\n",
    "The IF statement checks a statement for truth, if the statement is true a specific task will be executed\n",
    "\n",
    "1. Run the code in the first example\n",
    "2. Create your own IF statement that prints a number if it is higher than 100\n",
    "3. Create an IF statement that adds 10 to a number if it is higher than 100; print the sum of the two numbers. "
   ]
  },
  {
   "cell_type": "code",
   "execution_count": 231,
   "id": "65265c00",
   "metadata": {},
   "outputs": [
    {
     "name": "stdout",
     "output_type": "stream",
     "text": [
      "You are older than 18.\n"
     ]
    }
   ],
   "source": [
    "## EXAMPLE\n",
    "\n",
    "age = 28\n",
    "\n",
    "if age > 18:\n",
    "    print(\"You are older than 18.\")"
   ]
  },
  {
   "cell_type": "code",
   "execution_count": 233,
   "id": "fe9d34d7",
   "metadata": {},
   "outputs": [
    {
     "name": "stdout",
     "output_type": "stream",
     "text": [
      "gimmie a number: 101\n",
      "101\n"
     ]
    }
   ],
   "source": [
    "x = int(input(\"gimmie a number: \"))\n",
    "\n",
    "if x > 100:\n",
    "    print(x)"
   ]
  },
  {
   "cell_type": "code",
   "execution_count": 235,
   "id": "70e1a783",
   "metadata": {},
   "outputs": [
    {
     "name": "stdout",
     "output_type": "stream",
     "text": [
      "gimmie a number: 101\n",
      "111\n"
     ]
    }
   ],
   "source": [
    "x = int(input(\"gimmie a number: \"))\n",
    "\n",
    "if x > 100:\n",
    "    x+=10\n",
    "    print(x)"
   ]
  },
  {
   "cell_type": "markdown",
   "id": "35172b2f",
   "metadata": {},
   "source": [
    "#### IF/ELSE STATEMENTS\n",
    "\n",
    "The IF/ELSE statements (when used together), checks a statement for truth - if the statement is true, the task underneath the IF statement will execute. If the statement if false, the task underneath the ELSE statement will execute.\n",
    "\n",
    "1. Run the code in the first example\n",
    "2. Create your own IF/ELSE statement that prints a number if it is higher than 100; if it is lower than 100, print \"Low Number\". \n",
    "3. Create an IF/ELSE statement that adds 10 to a number if it is higher than 100; if it isn't higher than 100, add 100 to the number. Print the sum of the two numbers."
   ]
  },
  {
   "cell_type": "code",
   "execution_count": 236,
   "id": "dba5c370",
   "metadata": {},
   "outputs": [
    {
     "name": "stdout",
     "output_type": "stream",
     "text": [
      "You are younger than 18.\n"
     ]
    }
   ],
   "source": [
    "## EXAMPLE\n",
    "\n",
    "age = 8\n",
    "\n",
    "if age > 18:\n",
    "    print(\"You are older than 18.\")\n",
    "else:\n",
    "    print(\"You are younger than 18.\")"
   ]
  },
  {
   "cell_type": "code",
   "execution_count": 238,
   "id": "15ce4d48",
   "metadata": {},
   "outputs": [
    {
     "name": "stdout",
     "output_type": "stream",
     "text": [
      "Low Number\n"
     ]
    }
   ],
   "source": [
    "x = 8\n",
    "\n",
    "if x > 100:\n",
    "    print(x)\n",
    "else:\n",
    "    print(\"Low Number\")"
   ]
  },
  {
   "cell_type": "code",
   "execution_count": 241,
   "id": "236f3ddb",
   "metadata": {},
   "outputs": [
    {
     "name": "stdout",
     "output_type": "stream",
     "text": [
      "510\n"
     ]
    }
   ],
   "source": [
    "x = 500\n",
    "\n",
    "if x > 100:\n",
    "    print(x+10)  \n",
    "else:\n",
    "    print(x+100)\n"
   ]
  },
  {
   "cell_type": "code",
   "execution_count": null,
   "id": "acc1a8c4",
   "metadata": {},
   "outputs": [],
   "source": []
  },
  {
   "cell_type": "markdown",
   "id": "8fda511e",
   "metadata": {},
   "source": [
    "#### ELIF STATEMENTS\n",
    "\n",
    "The ELIF statement is short for \"ELSE IF\" and is a combination of the above statements. ELIF checks another statement for truth (after the initial IF statement) -- if the statement if true, the tasks underneath the ELIF statement will execute. \n",
    "\n",
    "1. Run the code in the first example\n",
    "2. Create your own IF/ELIF/ELSE statement that prints a number if it is higher than 100; if the value is equal to 100 - print \"100\". If both statements are false, print \"less than 100\").\n",
    "3. Create an IF/ELIF/ELSE statement that adds 10 to a number if it is higher than 100; if the number is greater than 50 -- add 20 to the number. If none of the above are true, add 100 to the number. Print the sum of the two numbers. \n"
   ]
  },
  {
   "cell_type": "code",
   "execution_count": 242,
   "id": "274f1c76",
   "metadata": {},
   "outputs": [
    {
     "name": "stdout",
     "output_type": "stream",
     "text": [
      "You ARE currently 18!\n"
     ]
    }
   ],
   "source": [
    "## EXAMPLE\n",
    "\n",
    "age = 18\n",
    "\n",
    "if age > 18:\n",
    "    print(\"You are older than 18.\")\n",
    "elif age == 18:\n",
    "    print(\"You ARE currently 18!\")\n",
    "else:\n",
    "    print(\"You are younger than 18.\")"
   ]
  },
  {
   "cell_type": "code",
   "execution_count": 244,
   "id": "f34a0f17",
   "metadata": {},
   "outputs": [
    {
     "name": "stdout",
     "output_type": "stream",
     "text": [
      "500\n"
     ]
    }
   ],
   "source": [
    "x = 500\n",
    "\n",
    "if x > 100:\n",
    "    print(x)\n",
    "elif x == 100:\n",
    "    print(\"100\")  \n",
    "else:\n",
    "    print(\"less than 100\")\n"
   ]
  },
  {
   "cell_type": "code",
   "execution_count": 246,
   "id": "5a085b63",
   "metadata": {},
   "outputs": [
    {
     "name": "stdout",
     "output_type": "stream",
     "text": [
      "120\n"
     ]
    }
   ],
   "source": [
    "x = 20\n",
    "\n",
    "if x > 100:\n",
    "    print(x+10)\n",
    "elif x > 50:\n",
    "    print(x+20)  \n",
    "else:\n",
    "    print(x+100)\n"
   ]
  },
  {
   "cell_type": "code",
   "execution_count": null,
   "id": "3c81f37c",
   "metadata": {},
   "outputs": [],
   "source": []
  },
  {
   "cell_type": "markdown",
   "id": "672c3909",
   "metadata": {},
   "source": [
    "#### LISTS\n",
    "\n",
    "Lists are a unique data type within Python. Lists are ordered and changeable -- which means you can index a list and you can add/remove values from a list. A list is a collection of values all saved together into a single variable. Lists can contain multiple data types within a single list. All values within a list are separated by a comma. Lists are defined by square brackets. \n",
    "\n",
    "    list_name = [value1, value2, value3...]\n",
    "    \n",
    "Complete the code below to define a series of lists. "
   ]
  },
  {
   "cell_type": "code",
   "execution_count": 251,
   "id": "cb76e8cb",
   "metadata": {},
   "outputs": [],
   "source": [
    "## add two values to the following list of flowers\n",
    "# print the list\n",
    "\n",
    "flowers = [\"Rose\", \"Lily\", \"Poppy\", \"coneflower\", \"coreopsis\"]"
   ]
  },
  {
   "cell_type": "code",
   "execution_count": 252,
   "id": "75e5258f",
   "metadata": {},
   "outputs": [],
   "source": [
    "## fix the code below to define a list of names\n",
    "# print the list\n",
    "\n",
    "names = [\"Jack\", \"Max\", \"Leo\", \"Harper\", \"Sam\"]"
   ]
  },
  {
   "cell_type": "code",
   "execution_count": 253,
   "id": "4b4faa85",
   "metadata": {},
   "outputs": [
    {
     "name": "stdout",
     "output_type": "stream",
     "text": [
      "[]\n"
     ]
    }
   ],
   "source": [
    "## use the space below to create a blank list\n",
    "# print the list to make sure its blank\n",
    "blnk_lst = []\n",
    "print(blnk_lst)"
   ]
  },
  {
   "cell_type": "markdown",
   "id": "baa974bd",
   "metadata": {},
   "source": [
    "#### LIST INDEXING AND SLICING\n",
    "\n",
    "Indexing a list works similarly to indexing a list - you are specifically asking to see the value within a specific location. A list index is still zero-based. See below for a list of colors. Next to each color is the index value.\n",
    "\n",
    "    colors = [red-0, yellow-1, blue-2]\n",
    "\n",
    "To index, you will state the name of your list and then within square brackets, specify the location you want to see. \n",
    "\n",
    "    colors[0] >> \"red-0\"\n",
    "    colors[1] >> \"yellow-1\"\n",
    "    colors[2] >> \"blue-2\"\n",
    "    \n",
    "Slicing a list returns a specific segment of the list instead of just returning a specific value in a specific index position. Slicing will return all the values of a list from a starting index location up to (<b>but not including</b>) an ending index location. Slicing uses square brackets and follows the pattern below:\n",
    "\n",
    "    list_name[starting point : ending point]\n",
    "    \n",
    "Slicing will literally give you a slice of the list. See below for an example using the colors list. \n",
    "\n",
    "    colors[0:2] >> red-0, yellow-1\n",
    "    colors[0:3] >> red-0, yellow-1, blue-2\n",
    "    \n",
    "1. Create a list of objects you find around your house. Have at least 6 values in the list. Print the list. \n",
    "2. What value is at position 4 in your list?\n",
    "3. What value is at position 0 in your list?\n",
    "4. Slice your list so you return all values except for the last two."
   ]
  },
  {
   "cell_type": "code",
   "execution_count": 254,
   "id": "f4416196",
   "metadata": {},
   "outputs": [],
   "source": [
    "objs = [\"bobblehead\", \"lamp\", \"mail\", \"robe\", \"pillow\", \"pen\"]"
   ]
  },
  {
   "cell_type": "code",
   "execution_count": 255,
   "id": "78068227",
   "metadata": {},
   "outputs": [
    {
     "data": {
      "text/plain": [
       "'robe'"
      ]
     },
     "execution_count": 255,
     "metadata": {},
     "output_type": "execute_result"
    }
   ],
   "source": [
    "objs[3]"
   ]
  },
  {
   "cell_type": "code",
   "execution_count": 256,
   "id": "7a8f7320",
   "metadata": {},
   "outputs": [
    {
     "data": {
      "text/plain": [
       "'bobblehead'"
      ]
     },
     "execution_count": 256,
     "metadata": {},
     "output_type": "execute_result"
    }
   ],
   "source": [
    "objs[0]"
   ]
  },
  {
   "cell_type": "code",
   "execution_count": 258,
   "id": "7997c990",
   "metadata": {},
   "outputs": [
    {
     "data": {
      "text/plain": [
       "['bobblehead', 'lamp', 'mail', 'robe']"
      ]
     },
     "execution_count": 258,
     "metadata": {},
     "output_type": "execute_result"
    }
   ],
   "source": [
    "objs[0:4]"
   ]
  },
  {
   "cell_type": "markdown",
   "id": "3c69d12a",
   "metadata": {},
   "source": [
    "#### ADDING VALUES TO A LIST\n",
    "\n",
    "Lists are changeable, which means you can add values to a list after you have defined the list initially. \n",
    "\n",
    "The .append() function will add a single value to the end of your list. This function can only add one value at a time, and it will always attach to the end. To use the function, see an example below:\n",
    "\n",
    "    list_name.append( new_item_to_add )\n",
    "    \n",
    "    colors.append(\"green-3\")\n",
    "    \n",
    "The .insert() function will add a single value to a specific index-position within your list. Unlike the append function, this means the item your adding won't automatically be attached to the end. To use the function, see an example below:\n",
    "\n",
    "    list_name.insert( index-position, new_item_to_add )\n",
    "    \n",
    "    colors.insert(0, \"green-3\")\n",
    "\n",
    "The .extend() function allows you to add multiple values to a list at one time. This is the function to use if you don't want to add values one by one. To use the function, you first have to create a separate list of the values you want to add. Then, you will use the .extend() function to add all the values on the list onto the end of the existing list. See below for an example:\n",
    "\n",
    "    new_list = [\"new_value1\", \"new_value2\", \"new_value3\"...]\n",
    "    list_name.extend( new_list )\n",
    "    \n",
    "    \n",
    "    new_colors = [\"green-3\", \"purple-4\"]\n",
    "    colors.extend(new_colors)\n",
    "    \n",
    "1. Create a list of shapes below. This list should have at least 3 values. Print the list. \n",
    "2. Use the append function to add a shape to your list. Print the list.\n",
    "3. Use the insert function to add a shape to your list. This shape should be inserted in index position 2. Print the list.\n",
    "4. Use the extend function to add 3 additional shapes to your list. Print the list. "
   ]
  },
  {
   "cell_type": "code",
   "execution_count": 268,
   "id": "bdba2f86",
   "metadata": {},
   "outputs": [
    {
     "name": "stdout",
     "output_type": "stream",
     "text": [
      "['circle', 'square', 'pentagon']\n",
      "['circle', 'square', 'pentagon', 'hexagon']\n",
      "['circle', 'square', 'star', 'pentagon', 'hexagon']\n",
      "['circle', 'square', 'star', 'pentagon', 'hexagon', 'octogon', 'septagon', 'dodecahedron']\n"
     ]
    }
   ],
   "source": [
    "shapes = [\"circle\", \"square\", \"pentagon\"]\n",
    "print(shapes)\n",
    "shapes.append(\"hexagon\")\n",
    "print(shapes)\n",
    "shapes.insert(2, \"star\")\n",
    "print(shapes)\n",
    "new_shapes = [\"octogon\", \"septagon\", \"dodecahedron\"]\n",
    "\n",
    "shapes.extend(new_shapes)\n",
    "print(shapes)"
   ]
  },
  {
   "cell_type": "code",
   "execution_count": null,
   "id": "baa7734e",
   "metadata": {},
   "outputs": [],
   "source": []
  },
  {
   "cell_type": "code",
   "execution_count": null,
   "id": "7c4290e5",
   "metadata": {},
   "outputs": [],
   "source": []
  },
  {
   "cell_type": "markdown",
   "id": "3a61113f",
   "metadata": {},
   "source": [
    "# { Module 3 Quiz }\n",
    "\n",
    "1. Create 3 conditions that produce a false result. Create 3 conditions that produce a true result.\n",
    "2. Ask the user for a specific color and store the value into a variable. If the color is Blue, print \"Blue is a calming color\". If the color is Red, print \"Red is a fiery color\". Otherwise, print \"All colors are beautiful\".\n",
    "3. Create a list of 5 fictional characters. Print the list. \n",
    "4. Ask the user for a specific number between 1 and 10. If the number is less than 3, print 'low value'. If the number is greater than 7, print 'high number'. Otherwise, print 'thank you'.\n",
    "5. Create a function that determines if a student passed or failed a test. Ask the user for their test score, if the value is below 70, print 'You failed'. If the value is 70 or above, print 'You passed'. If the value is above 100 or below 0, print 'Please enter a valid number'. "
   ]
  },
  {
   "cell_type": "code",
   "execution_count": 273,
   "id": "6c34d4fd",
   "metadata": {},
   "outputs": [
    {
     "data": {
      "text/plain": [
       "False"
      ]
     },
     "execution_count": 273,
     "metadata": {},
     "output_type": "execute_result"
    }
   ],
   "source": [
    "4>5\n",
    "4==5\n",
    "5!=5"
   ]
  },
  {
   "cell_type": "code",
   "execution_count": 275,
   "id": "5396c883",
   "metadata": {},
   "outputs": [
    {
     "data": {
      "text/plain": [
       "True"
      ]
     },
     "execution_count": 275,
     "metadata": {},
     "output_type": "execute_result"
    }
   ],
   "source": [
    "1==1\n",
    "1<10\n",
    "50 >= 47"
   ]
  },
  {
   "cell_type": "code",
   "execution_count": 279,
   "id": "492535c7",
   "metadata": {},
   "outputs": [
    {
     "name": "stdout",
     "output_type": "stream",
     "text": [
      "gimmie a color: red\n",
      "Red is a fiery color\n"
     ]
    }
   ],
   "source": [
    "color = input(\"gimmie a color: \")\n",
    "\n",
    "if color == \"Blue\" or color == \"blue\":\n",
    "    print(\"Blue is a charming color\")\n",
    "elif color == \"Red\" or color == \"red\":\n",
    "    print(\"Red is a fiery color\")\n",
    "else:\n",
    "    print(\"all colors are beautiful\")\n",
    "    "
   ]
  },
  {
   "cell_type": "code",
   "execution_count": 281,
   "id": "8d7dda86",
   "metadata": {},
   "outputs": [
    {
     "name": "stdout",
     "output_type": "stream",
     "text": [
      "['spongebob', 'samurai jack', 'mojojojo', 'homer', 'mordecai']\n"
     ]
    }
   ],
   "source": [
    "fic_chars = [\"spongebob\", \"samurai jack\", \"mojojojo\", \"homer\", \"mordecai\"]\n",
    "print(fic_chars)"
   ]
  },
  {
   "cell_type": "code",
   "execution_count": 283,
   "id": "a15c0b0d",
   "metadata": {},
   "outputs": [
    {
     "name": "stdout",
     "output_type": "stream",
     "text": [
      "gimmie a number between 1 and 10: 10\n",
      "high number\n"
     ]
    }
   ],
   "source": [
    "x = int(input(\"gimmie a number between 1 and 10: \"))\n",
    "\n",
    "if x > 7:\n",
    "    print(\"high number\")\n",
    "elif x <3:\n",
    "    print(\"low number\")  \n",
    "else:\n",
    "    print(\"thank you\")"
   ]
  },
  {
   "cell_type": "code",
   "execution_count": 287,
   "id": "9ff768fa",
   "metadata": {},
   "outputs": [
    {
     "name": "stdout",
     "output_type": "stream",
     "text": [
      "what score did you get on your test?: -6\n",
      "enter a valid number\n"
     ]
    }
   ],
   "source": [
    "score = int(input(\"what score did you get on your test?: \"))\n",
    "\n",
    "def grade():\n",
    "    if score >100:\n",
    "        print(\"please enter a valid number\")\n",
    "    elif score > 70:\n",
    "        print(\"you passed!\")\n",
    "    elif score > 0:\n",
    "        print(\"you failed\")\n",
    "    else:\n",
    "        print(\"enter a valid number\")\n",
    "grade()\n"
   ]
  },
  {
   "cell_type": "markdown",
   "id": "e637bcf4",
   "metadata": {},
   "source": [
    "## Advanced Review\n",
    "\n",
    "Complete the exercises below. These exercises cover topics from all the modules covered in the class thus far, not just the items reviewed in this notebook. Each exercise should be completed in its own cell (or multiple cells). \n",
    "\n",
    "*****************************\n",
    "\n",
    "1.\tCreate a program that asks the user to enter their name and their age. Print out a message addressed to them that tells them the year that they will turn 100 years old.\n",
    "2.\tAsk the user for a number. Depending on whether the number is even or odd, print out an appropriate message to the user.\n",
    "3.\tTake a list and write a program that prints out all the elements of the list that are less than 5. BONUS: Instead of printing the elements one by one, make a new list that has all the elements less than 5 from this list in it and print out this new list.\n",
    "4.\tGenerate a random number between 1 and 9 (including 1 and 9). Ask the user to guess the number, then tell them whether they guessed too low, too high, or exactly right. BONUS: Keep the game going until the user types “exit”\n",
    "5.\tWrite a program that takes a list of numbers (for example, a = [5, 10, 15, 20, 25]) and makes a new list of only the first and last elements of the given list.\n",
    "6.\tWrite a password generator in Python. Be creative with how you generate passwords - strong passwords have a mix of lowercase letters, uppercase letters, numbers, and symbols. The passwords should be random, generating a new password every time the user asks for a new password.\n"
   ]
  },
  {
   "cell_type": "code",
   "execution_count": 288,
   "id": "1a5c1f95",
   "metadata": {},
   "outputs": [
    {
     "name": "stdout",
     "output_type": "stream",
     "text": [
      "gimmie your name: cal\n",
      "how many years are you?: 20\n",
      "cal will turn 100 years old in 80 years!\n"
     ]
    }
   ],
   "source": [
    "name = input(\"gimmie your name: \")\n",
    "age = int(input(\"how many years are you?: \"))\n",
    "\n",
    "print(f'{name} will turn 100 years old in {100-age} years!')"
   ]
  },
  {
   "cell_type": "code",
   "execution_count": 292,
   "id": "71253269",
   "metadata": {},
   "outputs": [
    {
     "name": "stdout",
     "output_type": "stream",
     "text": [
      "gimmie a number: 21\n",
      "ODD\n"
     ]
    }
   ],
   "source": [
    "numb = int(input(\"gimmie a number: \"))\n",
    "if numb % 2 ==0:\n",
    "    print(\"EVEN\")\n",
    "else:\n",
    "    print(\"ODD\")"
   ]
  },
  {
   "cell_type": "code",
   "execution_count": 297,
   "id": "bedda0d3",
   "metadata": {},
   "outputs": [
    {
     "name": "stdout",
     "output_type": "stream",
     "text": [
      "[1, 2, 3, 4]\n"
     ]
    }
   ],
   "source": [
    "numbs= [1, 2, 3, 4, 5, 6, 7, 8, 9, 10]\n",
    "new_lst =[]\n",
    "for num in numbs:\n",
    "    if num <5:\n",
    "        new_lst.append(num)\n",
    "print(new_lst)\n",
    "    "
   ]
  },
  {
   "cell_type": "code",
   "execution_count": 305,
   "id": "a9bfd4fe",
   "metadata": {},
   "outputs": [
    {
     "name": "stdout",
     "output_type": "stream",
     "text": [
      " guess a number between 1 and 9: 5\n",
      "too low\n",
      " the actual number was 6\n"
     ]
    }
   ],
   "source": [
    "import random as rand\n",
    "\n",
    "num = rand.randint(1, 10)\n",
    "\n",
    "guess = int(input(\" guess a number between 1 and 9: \"))\n",
    "\n",
    "if guess > num:\n",
    "    print(\"too high\")\n",
    "elif guess == num:\n",
    "    print(\"CORRECT\")\n",
    "else:\n",
    "    print(\"too low\")\n",
    "print(f' the actual number was {num}')"
   ]
  },
  {
   "cell_type": "code",
   "execution_count": 314,
   "id": "18d92689",
   "metadata": {},
   "outputs": [
    {
     "name": "stdout",
     "output_type": "stream",
     "text": [
      "[1, 9]\n"
     ]
    }
   ],
   "source": [
    "lst= [1,2,3,4,5,6,7,8,9]\n",
    "\n",
    "print(lst[0::len(lst)-1])"
   ]
  },
  {
   "cell_type": "code",
   "execution_count": 331,
   "id": "449f7a2d",
   "metadata": {},
   "outputs": [
    {
     "name": "stdout",
     "output_type": "stream",
     "text": [
      "['v', 'U', 'I', 'za', 's', '3', 'Y', 'E', '!', 'j']\n",
      "vUIzas3YE!j\n"
     ]
    }
   ],
   "source": [
    "import random as rand\n",
    "\n",
    "lns = [\"A\", \"B\", \"C\", \"D\", \"E\", \"F\", \"G\", \"H\", \"I\", \"J\", \"K\", \"L\", \"M\", \"N\", \"O\", \"P\", \"Q\", \"R\", \"S\", \"T\", \"U\", \"V\", \"W\", \"X\", \"Y\", \"z\"\"a\", \"b\", \"c\", \"d\", \"e\", \"f\", \"g\", \"h\", \"i\", \"j\", \"k\", \"l\", \"m\", \"n\", \"o\", \"p\", \"q\", \"r\", \"s\", \"t\", \"u\", \"v\", \"w\", \"x\", \"y\", \"z\", \"0\", \"1\", \"2\", \"3\", \"4\", \"5\", \"6\", \"7\", \"8\", \"9\", \"&\", \"^\", \"!\", \"@\", \"#\", \"%\", \"$\"]\n",
    "\n",
    "\n",
    "password = []\n",
    "\n",
    "for i in range(rand.randrange(8,16)):\n",
    "    \n",
    "    password.append(rand.choice(lns))\n",
    "    \n",
    "    \n",
    "print(password)\n",
    "print(\"\".join(password))"
   ]
  },
  {
   "cell_type": "code",
   "execution_count": null,
   "id": "94b8730d",
   "metadata": {},
   "outputs": [],
   "source": []
  }
 ],
 "metadata": {
  "kernelspec": {
   "display_name": "Python 3 (ipykernel)",
   "language": "python",
   "name": "python3"
  },
  "language_info": {
   "codemirror_mode": {
    "name": "ipython",
    "version": 3
   },
   "file_extension": ".py",
   "mimetype": "text/x-python",
   "name": "python",
   "nbconvert_exporter": "python",
   "pygments_lexer": "ipython3",
   "version": "3.9.12"
  }
 },
 "nbformat": 4,
 "nbformat_minor": 5
}
