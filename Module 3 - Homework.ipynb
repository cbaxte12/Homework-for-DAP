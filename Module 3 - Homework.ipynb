{
 "cells": [
  {
   "cell_type": "markdown",
   "metadata": {},
   "source": [
    "### Exercise 1\n",
    "Ask a user for 5 names and place each one in to a list called <i>names</i>. Then, print <i>names</i>."
   ]
  },
  {
   "cell_type": "code",
   "execution_count": 1,
   "metadata": {},
   "outputs": [
    {
     "name": "stdout",
     "output_type": "stream",
     "text": [
      "gimmie a name!: calvbin\n",
      "another one: huey\n",
      "another one: frank\n",
      "another one: tim\n",
      "another one: tom\n",
      "['calvbin', 'huey', 'frank', 'tim', 'tom']\n"
     ]
    }
   ],
   "source": [
    "name1= input(\"gimmie a name!: \")\n",
    "name2= input(\"another one: \")\n",
    "name3= input(\"another one: \")\n",
    "name4= input(\"another one: \")\n",
    "name5= input(\"another one: \")\n",
    "\n",
    "name_list = [name1, name2, name3, name4, name5]\n",
    "print(name_list)\n"
   ]
  },
  {
   "cell_type": "markdown",
   "metadata": {},
   "source": [
    "### Exercise 2\n",
    "Print out a randomly selected name in the names list."
   ]
  },
  {
   "cell_type": "code",
   "execution_count": 2,
   "metadata": {},
   "outputs": [
    {
     "name": "stdout",
     "output_type": "stream",
     "text": [
      "gimmie a name!: calvin\n",
      "another one: tim\n",
      "another one: tom\n",
      "another one: frank\n",
      "another one: bob\n",
      "['calvin', 'tim', 'tom', 'frank', 'bob']\n",
      "calvin\n"
     ]
    }
   ],
   "source": [
    "import random\n",
    "\n",
    "name1= input(\"gimmie a name!: \")\n",
    "name2= input(\"another one: \")\n",
    "name3= input(\"another one: \")\n",
    "name4= input(\"another one: \")\n",
    "name5= input(\"another one: \")\n",
    "\n",
    "name_list = [name1, name2, name3, name4, name5]\n",
    "print(name_list)\n",
    "\n",
    "ran_name = random.choice(name_list)\n",
    "\n",
    "print(ran_name)"
   ]
  },
  {
   "cell_type": "markdown",
   "metadata": {},
   "source": [
    "### Exercise 3\n",
    "\n",
    "Ask a user for a specific color and store that value into a variable. If the answer is gray, print \"You found Victor's favorite color!\". If the answer is anything besides gray, print \"[color name] is not Victor's favorite color.\""
   ]
  },
  {
   "cell_type": "code",
   "execution_count": 15,
   "metadata": {},
   "outputs": [
    {
     "name": "stdout",
     "output_type": "stream",
     "text": [
      "pick a color: red\n",
      "red is not Victor's favorite color\n"
     ]
    }
   ],
   "source": [
    "color = input(\"pick a color: \")\n",
    "\n",
    "if color == \"gray\":\n",
    "    print(\"You found Victor's favorite color!\")\n",
    "else:\n",
    "    print(f\"{color} is not Victor's favorite color\")"
   ]
  },
  {
   "cell_type": "markdown",
   "metadata": {},
   "source": [
    "### Exercise 4\n",
    "Ask for an exam score and store that number. If the number is greater than 100, then print out 'You cannot have an exam score higher than 100'. If the number doesn't exceeed 100 but is greater than or equal to 75, then print out 'You did great on your exam!'. Otherwise if they scored lower than 75, then print out 'You need to study harder'."
   ]
  },
  {
   "cell_type": "code",
   "execution_count": 35,
   "metadata": {},
   "outputs": [
    {
     "name": "stdout",
     "output_type": "stream",
     "text": [
      "What score did you get?: 45\n",
      "you need to study harder...\n",
      "you did great on your exam!\n",
      "You cannot have an exam score higher than 100.\n"
     ]
    }
   ],
   "source": [
    "exam_score = int(input(\"What score did you get?: \"))\n",
    "\n",
    "def grade_exam (score):\n",
    "    \n",
    "    if score > 100:\n",
    "        print(\"You cannot have an exam score higher than 100.\")\n",
    "    elif score < 75:\n",
    "         print(\"you need to study harder...\")\n",
    "    else:\n",
    "         print(\"you did great on your exam!\")\n",
    "grade_exam(exam_score)\n",
    "grade_exam(76)\n",
    "grade_exam(150)\n",
    "\n",
    "    \n",
    "    \n",
    "    "
   ]
  },
  {
   "cell_type": "markdown",
   "metadata": {},
   "source": [
    "### Exercise 5\n",
    "Write a function to convert a test score to a grade where  \n",
    " - 90 - 100: A\n",
    " - 80 - 89:  B\n",
    " - 70 - 79:  C\n",
    " - 60 - 69:  D\n",
    " - < 60   :  F\n",
    " \n",
    "If a score is not between 0 and 100 then print out an error message. In the program, ask the user for a score and then call your function. "
   ]
  },
  {
   "cell_type": "code",
   "execution_count": 54,
   "metadata": {},
   "outputs": [
    {
     "name": "stdout",
     "output_type": "stream",
     "text": [
      "What score did you get?: 105\n",
      "Smarty pants!\n"
     ]
    }
   ],
   "source": [
    "exam = int(input(\"What score did you get?: \"))\n",
    "\n",
    "def graded_exam (score):\n",
    "    \n",
    "    if score >= 90 and score <= 100:\n",
    "        print(\"You got an A!\")\n",
    "    elif score >= 80 and score <= 90:\n",
    "         print(\"You got a B!\")\n",
    "    elif score >= 70 and score <= 80:\n",
    "         print(\"You got a C!\")\n",
    "    elif score >= 60 and score <= 70:\n",
    "         print(\"You got a D!\")\n",
    "    elif score >= 0 and score <= 60:\n",
    "         print(\"You got an F\")\n",
    "    elif score < 0:\n",
    "         print(\"You could not do that badly...\")\n",
    "    elif score >= 101:\n",
    "         print(\"Smarty pants!\")\n",
    "graded_exam(exam)"
   ]
  },
  {
   "cell_type": "code",
   "execution_count": null,
   "metadata": {},
   "outputs": [],
   "source": []
  },
  {
   "cell_type": "markdown",
   "metadata": {},
   "source": []
  }
 ],
 "metadata": {
  "kernelspec": {
   "display_name": "Python 3 (ipykernel)",
   "language": "python",
   "name": "python3"
  },
  "language_info": {
   "codemirror_mode": {
    "name": "ipython",
    "version": 3
   },
   "file_extension": ".py",
   "mimetype": "text/x-python",
   "name": "python",
   "nbconvert_exporter": "python",
   "pygments_lexer": "ipython3",
   "version": "3.9.12"
  }
 },
 "nbformat": 4,
 "nbformat_minor": 4
}
